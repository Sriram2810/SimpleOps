{
 "cells": [
  {
   "cell_type": "markdown",
   "id": "76b7d184-2442-4c11-aa71-d7fa154a644d",
   "metadata": {},
   "source": [
    "## Importing Libraries"
   ]
  },
  {
   "cell_type": "code",
   "execution_count": 1,
   "id": "cc3e7ce1-2a83-4d38-9d77-61d4dd5f4371",
   "metadata": {},
   "outputs": [],
   "source": [
    "import pandas as pd\n",
    "import numpy as np\n",
    "import torch\n",
    "import torch.nn as nn\n",
    "from torch.utils.data import Dataset, DataLoader\n",
    "from sklearn.preprocessing import LabelEncoder, StandardScaler\n",
    "from sklearn.model_selection import train_test_split\n",
    "from sklearn.metrics import mean_squared_error, r2_score\n",
    "import xgboost as xgb\n",
    "import lightgbm as lgb\n",
    "from sklearn.ensemble import StackingRegressor\n",
    "from sklearn.linear_model import ElasticNet\n",
    "import joblib\n",
    "from tqdm import tqdm\n",
    "import yaml"
   ]
  },
  {
   "cell_type": "markdown",
   "id": "31d780ca-d77d-4fca-9a49-da81998ad30a",
   "metadata": {},
   "source": [
    "## Config"
   ]
  },
  {
   "cell_type": "code",
   "execution_count": 2,
   "id": "55aba6cd-175a-4f84-b4a5-1d66bd6892d2",
   "metadata": {},
   "outputs": [
    {
     "name": "stdout",
     "output_type": "stream",
     "text": [
      "C:\\Yellow Taxi Project\\SimpleOps\\project\n"
     ]
    }
   ],
   "source": [
    "%cd .."
   ]
  },
  {
   "cell_type": "code",
   "execution_count": 11,
   "id": "ba77e2f3-eb5e-41ad-8209-f1c280eb6eaf",
   "metadata": {},
   "outputs": [
    {
     "name": "stdout",
     "output_type": "stream",
     "text": [
      "{'base': {'random_seed': 42}, 'data': {'raw_data_parquet': 'data/raw/yellow_tripdata_2023-01.parquet', 'raw_data_csv': 'data/raw/yellow_tripdata_2023-01.csv', 'processed_data_csv': 'data/processed/yellow_tripdata_2023-01.csv', 'train_data_csv': 'data/processed/train_data.csv', 'val_data_csv': 'data/processed/val_data.csv', 'test_size': 0.2}, 'train': {'PyNN': {'lr': 0.002, 'batch_size': 1024, 'num_workers': 0, 'patience': 20, 'patience_counter': 0, 'epochs': 100, 'model_path': 'models/PyNN_model.pt'}, 'XGBoost': {'tree_method': 'hist', 'device': 'cuda', 'n_estimators': 500, 'max_depth': 8, 'learning_rate': 0.05, 'subsample': 0.8, 'colsample_bytree': 0.8, 'objective': 'reg:squarederror', 'random_state': 42, 'early_stopping_rounds': 20}, 'LightGBM': {'device': 'gpu', 'num_leaves': 31, 'learning_rate': 0.05, 'n_estimators': 500, 'min_child_samples': 20, 'early_stopping_rounds': 20, 'random_state': 42}, 'TabNet': {'eval_metric': ['rmse'], 'max_epochs': 20, 'patience': 5, 'batch_size': 1024, 'virtual_batch_size': 128, 'num_workers': 0}, 'LReg': {'Ridge': {'alpha': 1.0}, 'Lasso': {'alpha': 0.1, 'max_iter': 10000}, 'ElasticNet': {'alpha': 0.1, 'l1_ratio': 0.5, 'max_iter': 10000}}}, 'reports': {'kde': {'lgbm': 'reports/KDEPlot_LGBM.jpg'}}}\n"
     ]
    }
   ],
   "source": [
    "import yaml\n",
    "\n",
    "with open('params.yaml') as conf_file:\n",
    "    config = yaml.safe_load(conf_file)\n",
    "\n",
    "print(config)"
   ]
  },
  {
   "cell_type": "markdown",
   "id": "c800ad24-d7db-42a0-884d-f16a00778ef4",
   "metadata": {},
   "source": [
    "## Reading Data"
   ]
  },
  {
   "cell_type": "code",
   "execution_count": 4,
   "id": "45863b56-e522-4964-82bd-3b18ab4f4e02",
   "metadata": {},
   "outputs": [],
   "source": [
    "# 1. Load and preprocess data\n",
    "# df = pd.read_parquet('../data/raw/yellow_tripdata_2023-01.parquet')\n",
    "df = pd.read_parquet(config['data']['raw_data_parquet'])\n",
    "df.to_csv(config['data']['raw_data_csv'])\n",
    "df['trip_duration'] = (df['tpep_dropoff_datetime'] - df['tpep_pickup_datetime']).dt.total_seconds()\n",
    "df = df[(df['trip_duration'] >= 60) & (df['trip_duration'] <= 7200)]"
   ]
  },
  {
   "cell_type": "markdown",
   "id": "4c240f38-1316-4ff0-b8ad-507fed1de262",
   "metadata": {},
   "source": [
    "## Fill NA Values"
   ]
  },
  {
   "cell_type": "code",
   "execution_count": 5,
   "id": "303d67e5-ac3f-46d2-9877-e7513e559b15",
   "metadata": {},
   "outputs": [],
   "source": [
    "for col in ['passenger_count', 'RatecodeID', 'congestion_surcharge', 'airport_fee']:\n",
    "    df[col] = df[col].fillna(df[col].mean())\n",
    "\n",
    "# Fill categorical column with mode\n",
    "for col in ['store_and_fwd_flag']:\n",
    "    df[col] = df[col].fillna(df[col].mode()[0])"
   ]
  },
  {
   "cell_type": "markdown",
   "id": "4a609b9b-4d6d-41b6-bfa3-5ac7f3a93993",
   "metadata": {},
   "source": [
    "## Feature Engineering"
   ]
  },
  {
   "cell_type": "code",
   "execution_count": 6,
   "id": "adaad7a1-6b82-47a7-84c9-59007a12e163",
   "metadata": {},
   "outputs": [],
   "source": [
    "df['pickup_hour'] = df['tpep_pickup_datetime'].dt.hour\n",
    "df['pickup_weekday'] = df['tpep_pickup_datetime'].dt.weekday\n",
    "df['is_weekend'] = df['pickup_weekday'].isin([5, 6]).astype(int)\n",
    "df['pickup_day'] = df['tpep_pickup_datetime'].dt.day\n",
    "df['month'] = df['tpep_pickup_datetime'].dt.month\n",
    "df['is_peak'] = ((df['pickup_hour'].between(7,9)) | (df['pickup_hour'].between(16,18))).astype(int)\n",
    "\n",
    "def time_of_day(hour):\n",
    "    if hour < 6: return 'night'\n",
    "    elif hour < 12: return 'morning'\n",
    "    elif hour < 18: return 'afternoon'\n",
    "    else: return 'evening'\n",
    "df['time_of_day'] = df['pickup_hour'].apply(time_of_day)\n",
    "\n",
    "categorical_cols = [\n",
    "    'VendorID', 'RatecodeID', 'store_and_fwd_flag', 'payment_type',\n",
    "    'PULocationID', 'DOLocationID', 'time_of_day'\n",
    "]\n",
    "numerical_cols = [\n",
    "    'passenger_count', 'trip_distance', 'fare_amount', 'extra', 'mta_tax', 'tip_amount',\n",
    "    'tolls_amount', 'improvement_surcharge', 'total_amount', 'congestion_surcharge',\n",
    "    'pickup_hour', 'pickup_weekday', 'is_weekend', 'pickup_day', 'month', 'is_peak', 'manhattan_dist'\n",
    "]\n",
    "numerical_cols = [col for col in numerical_cols if col in df.columns]\n",
    "\n",
    "# Label encode categoricals\n",
    "label_encoders = {}\n",
    "for col in categorical_cols:\n",
    "    le = LabelEncoder()\n",
    "    df[col] = le.fit_transform(df[col].astype(str))\n",
    "    label_encoders[col] = le\n",
    "\n",
    "# Standardize numerical features\n",
    "scaler = StandardScaler()\n",
    "df[numerical_cols] = scaler.fit_transform(df[numerical_cols])\n",
    "\n",
    "df.to_csv(config['data']['processed_data_csv'])"
   ]
  },
  {
   "cell_type": "code",
   "execution_count": 7,
   "id": "b9b00b73-a78d-4137-9217-a33f04526e49",
   "metadata": {},
   "outputs": [],
   "source": [
    "# Prepare data\n",
    "X = df[categorical_cols + numerical_cols]\n",
    "y = df['trip_duration'].values.astype(np.float32)"
   ]
  },
  {
   "cell_type": "markdown",
   "id": "be3b959b-6928-40ae-8fe1-ac51a0c97667",
   "metadata": {},
   "source": [
    "## Train Test Split"
   ]
  },
  {
   "cell_type": "code",
   "execution_count": null,
   "id": "77895efa-3068-422a-b8d4-e21e9aaa3ecb",
   "metadata": {},
   "outputs": [],
   "source": []
  },
  {
   "cell_type": "code",
   "execution_count": 8,
   "id": "41a74eee-fb28-4fd3-aa02-31a7eda4d8a9",
   "metadata": {},
   "outputs": [],
   "source": [
    "X_train, X_val, y_train, y_val = train_test_split(X, y, test_size=config['data']['test_size'], random_state=config['base']['random_seed'])\n",
    "\n",
    "y_train_series = pd.Series(y_train, name='trip_duration', index=X_train.index)\n",
    "\n",
    "# Combine X and y into one training DataFrame\n",
    "train_df = pd.concat([X_train, y_train_series], axis=1)\n",
    "\n",
    "y_val_series = pd.Series(y_val, name='trip_duration', index=X_val.index)\n",
    "\n",
    "# Combine X and y into one training DataFrame\n",
    "val_df = pd.concat([X_val, y_val_series], axis=1)\n",
    "\n",
    "train_df.to_csv(config['data']['train_data_csv'])\n",
    "val_df.to_csv(config['data']['val_data_csv'])"
   ]
  },
  {
   "cell_type": "markdown",
   "id": "954403c0-b718-45df-adff-45ce1b26fcd7",
   "metadata": {},
   "source": [
    "## 1. PyTorch Neural Network"
   ]
  },
  {
   "cell_type": "code",
   "execution_count": 9,
   "id": "74630cc2-8b8f-40ed-9b26-fa3bdcc4f364",
   "metadata": {},
   "outputs": [],
   "source": [
    "# ========== PyTorch Neural Network ==========\n",
    "class TaxiDataset(Dataset):\n",
    "    def __init__(self, X, y, categorical_cols, numerical_cols):\n",
    "        self.X_cat = X[categorical_cols].values.astype(np.int64)\n",
    "        self.X_num = X[numerical_cols].values.astype(np.float32)\n",
    "        self.y = y.astype(np.float32)\n",
    "    def __len__(self):\n",
    "        return len(self.y)\n",
    "    def __getitem__(self, idx):\n",
    "        return self.X_cat[idx], self.X_num[idx], self.y[idx]\n",
    "\n",
    "train_ds = TaxiDataset(X_train, y_train, categorical_cols, numerical_cols)\n",
    "val_ds = TaxiDataset(X_val, y_val, categorical_cols, numerical_cols)\n",
    "train_loader = DataLoader(train_ds, batch_size=2048, shuffle=True, num_workers=2, pin_memory=True)\n",
    "val_loader = DataLoader(val_ds, batch_size=2048, shuffle=False, num_workers=2, pin_memory=True)\n",
    "\n",
    "cat_dims = [int(df[col].nunique()) for col in categorical_cols]\n",
    "emb_dims = [(x, min(50, (x+1)//2)) for x in cat_dims]"
   ]
  },
  {
   "cell_type": "code",
   "execution_count": 12,
   "id": "7a51c717-d791-4a09-baf8-d249f2a49f7d",
   "metadata": {
    "scrolled": true
   },
   "outputs": [
    {
     "name": "stdout",
     "output_type": "stream",
     "text": [
      "PyTorch version: 2.5.1+cu121\n",
      "CUDA available: True\n",
      "CUDA device count: 1\n",
      "CUDA device name: NVIDIA GeForce RTX 4050 Laptop GPU\n"
     ]
    },
    {
     "name": "stderr",
     "output_type": "stream",
     "text": [
      "Epoch 1 [Train]: 100%|█████████████████████████████████████████████████████████████████████████████| 2368/2368 [00:26<00:00, 88.51it/s]\n",
      "Epoch 1 [Val]: 100%|████████████████████████████████████████████████████████████████████████████████| 592/592 [00:04<00:00, 138.59it/s]\n"
     ]
    },
    {
     "name": "stdout",
     "output_type": "stream",
     "text": [
      "Epoch 01 | Train Loss: 272208.5098 | Val RMSE: 191.37 | Val R2: 0.9149\n"
     ]
    },
    {
     "name": "stderr",
     "output_type": "stream",
     "text": [
      "Epoch 2 [Train]: 100%|█████████████████████████████████████████████████████████████████████████████| 2368/2368 [00:26<00:00, 90.59it/s]\n",
      "Epoch 2 [Val]: 100%|████████████████████████████████████████████████████████████████████████████████| 592/592 [00:04<00:00, 143.31it/s]\n"
     ]
    },
    {
     "name": "stdout",
     "output_type": "stream",
     "text": [
      "Epoch 02 | Train Loss: 39696.6296 | Val RMSE: 799.86 | Val R2: -0.4875\n"
     ]
    },
    {
     "name": "stderr",
     "output_type": "stream",
     "text": [
      "Epoch 3 [Train]: 100%|█████████████████████████████████████████████████████████████████████████████| 2368/2368 [00:25<00:00, 92.24it/s]\n",
      "Epoch 3 [Val]: 100%|████████████████████████████████████████████████████████████████████████████████| 592/592 [00:04<00:00, 141.93it/s]\n"
     ]
    },
    {
     "name": "stdout",
     "output_type": "stream",
     "text": [
      "Epoch 03 | Train Loss: 37718.7621 | Val RMSE: 315.17 | Val R2: 0.7690\n"
     ]
    },
    {
     "name": "stderr",
     "output_type": "stream",
     "text": [
      "Epoch 4 [Train]: 100%|█████████████████████████████████████████████████████████████████████████████| 2368/2368 [00:25<00:00, 91.67it/s]\n",
      "Epoch 4 [Val]: 100%|████████████████████████████████████████████████████████████████████████████████| 592/592 [00:04<00:00, 140.68it/s]\n"
     ]
    },
    {
     "name": "stdout",
     "output_type": "stream",
     "text": [
      "Epoch 04 | Train Loss: 36142.9579 | Val RMSE: 435.71 | Val R2: 0.5586\n"
     ]
    },
    {
     "name": "stderr",
     "output_type": "stream",
     "text": [
      "Epoch 5 [Train]: 100%|█████████████████████████████████████████████████████████████████████████████| 2368/2368 [00:25<00:00, 91.66it/s]\n",
      "Epoch 5 [Val]: 100%|████████████████████████████████████████████████████████████████████████████████| 592/592 [00:04<00:00, 145.18it/s]\n"
     ]
    },
    {
     "name": "stdout",
     "output_type": "stream",
     "text": [
      "Epoch 05 | Train Loss: 33396.1792 | Val RMSE: 2097.59 | Val R2: -9.2299\n"
     ]
    },
    {
     "name": "stderr",
     "output_type": "stream",
     "text": [
      "Epoch 6 [Train]: 100%|█████████████████████████████████████████████████████████████████████████████| 2368/2368 [00:26<00:00, 90.93it/s]\n",
      "Epoch 6 [Val]: 100%|████████████████████████████████████████████████████████████████████████████████| 592/592 [00:04<00:00, 143.53it/s]\n"
     ]
    },
    {
     "name": "stdout",
     "output_type": "stream",
     "text": [
      "Epoch 06 | Train Loss: 30999.6511 | Val RMSE: 4196.10 | Val R2: -39.9375\n"
     ]
    },
    {
     "name": "stderr",
     "output_type": "stream",
     "text": [
      "Epoch 7 [Train]: 100%|█████████████████████████████████████████████████████████████████████████████| 2368/2368 [00:26<00:00, 90.73it/s]\n",
      "Epoch 7 [Val]: 100%|████████████████████████████████████████████████████████████████████████████████| 592/592 [00:04<00:00, 146.33it/s]\n"
     ]
    },
    {
     "name": "stdout",
     "output_type": "stream",
     "text": [
      "Epoch 07 | Train Loss: 29802.1141 | Val RMSE: 3341.53 | Val R2: -24.9609\n"
     ]
    },
    {
     "name": "stderr",
     "output_type": "stream",
     "text": [
      "Epoch 8 [Train]: 100%|█████████████████████████████████████████████████████████████████████████████| 2368/2368 [00:25<00:00, 92.33it/s]\n",
      "Epoch 8 [Val]: 100%|████████████████████████████████████████████████████████████████████████████████| 592/592 [00:04<00:00, 139.66it/s]\n"
     ]
    },
    {
     "name": "stdout",
     "output_type": "stream",
     "text": [
      "Epoch 08 | Train Loss: 29094.0575 | Val RMSE: 1462.11 | Val R2: -3.9704\n"
     ]
    },
    {
     "name": "stderr",
     "output_type": "stream",
     "text": [
      "Epoch 9 [Train]: 100%|█████████████████████████████████████████████████████████████████████████████| 2368/2368 [00:25<00:00, 91.57it/s]\n",
      "Epoch 9 [Val]: 100%|████████████████████████████████████████████████████████████████████████████████| 592/592 [00:04<00:00, 142.94it/s]\n"
     ]
    },
    {
     "name": "stdout",
     "output_type": "stream",
     "text": [
      "Epoch 09 | Train Loss: 28477.1568 | Val RMSE: 186.02 | Val R2: 0.9195\n"
     ]
    },
    {
     "name": "stderr",
     "output_type": "stream",
     "text": [
      "Epoch 10 [Train]: 100%|████████████████████████████████████████████████████████████████████████████| 2368/2368 [00:25<00:00, 93.86it/s]\n",
      "Epoch 10 [Val]: 100%|███████████████████████████████████████████████████████████████████████████████| 592/592 [00:04<00:00, 136.01it/s]\n"
     ]
    },
    {
     "name": "stdout",
     "output_type": "stream",
     "text": [
      "Epoch 10 | Train Loss: 28197.7283 | Val RMSE: 456.79 | Val R2: 0.5149\n"
     ]
    },
    {
     "name": "stderr",
     "output_type": "stream",
     "text": [
      "Epoch 11 [Train]: 100%|████████████████████████████████████████████████████████████████████████████| 2368/2368 [00:25<00:00, 91.59it/s]\n",
      "Epoch 11 [Val]: 100%|███████████████████████████████████████████████████████████████████████████████| 592/592 [00:04<00:00, 139.00it/s]\n"
     ]
    },
    {
     "name": "stdout",
     "output_type": "stream",
     "text": [
      "Epoch 11 | Train Loss: 27902.5162 | Val RMSE: 500.03 | Val R2: 0.4187\n"
     ]
    },
    {
     "name": "stderr",
     "output_type": "stream",
     "text": [
      "Epoch 12 [Train]: 100%|████████████████████████████████████████████████████████████████████████████| 2368/2368 [00:25<00:00, 93.20it/s]\n",
      "Epoch 12 [Val]: 100%|███████████████████████████████████████████████████████████████████████████████| 592/592 [00:04<00:00, 141.65it/s]\n"
     ]
    },
    {
     "name": "stdout",
     "output_type": "stream",
     "text": [
      "Epoch 12 | Train Loss: 27711.8209 | Val RMSE: 466.64 | Val R2: 0.4937\n"
     ]
    },
    {
     "name": "stderr",
     "output_type": "stream",
     "text": [
      "Epoch 13 [Train]: 100%|████████████████████████████████████████████████████████████████████████████| 2368/2368 [00:25<00:00, 92.71it/s]\n",
      "Epoch 13 [Val]: 100%|███████████████████████████████████████████████████████████████████████████████| 592/592 [00:04<00:00, 143.29it/s]\n"
     ]
    },
    {
     "name": "stdout",
     "output_type": "stream",
     "text": [
      "Epoch 13 | Train Loss: 27609.9848 | Val RMSE: 376.40 | Val R2: 0.6706\n"
     ]
    },
    {
     "name": "stderr",
     "output_type": "stream",
     "text": [
      "Epoch 14 [Train]: 100%|████████████████████████████████████████████████████████████████████████████| 2368/2368 [00:25<00:00, 91.67it/s]\n",
      "Epoch 14 [Val]: 100%|███████████████████████████████████████████████████████████████████████████████| 592/592 [00:04<00:00, 143.43it/s]\n"
     ]
    },
    {
     "name": "stdout",
     "output_type": "stream",
     "text": [
      "Epoch 14 | Train Loss: 27285.1347 | Val RMSE: 289.72 | Val R2: 0.8048\n"
     ]
    },
    {
     "name": "stderr",
     "output_type": "stream",
     "text": [
      "Epoch 15 [Train]: 100%|████████████████████████████████████████████████████████████████████████████| 2368/2368 [00:25<00:00, 91.32it/s]\n",
      "Epoch 15 [Val]: 100%|███████████████████████████████████████████████████████████████████████████████| 592/592 [00:04<00:00, 145.77it/s]\n"
     ]
    },
    {
     "name": "stdout",
     "output_type": "stream",
     "text": [
      "Epoch 15 | Train Loss: 27334.1034 | Val RMSE: 642.42 | Val R2: 0.0405\n"
     ]
    },
    {
     "name": "stderr",
     "output_type": "stream",
     "text": [
      "Epoch 16 [Train]: 100%|████████████████████████████████████████████████████████████████████████████| 2368/2368 [00:25<00:00, 93.02it/s]\n",
      "Epoch 16 [Val]: 100%|███████████████████████████████████████████████████████████████████████████████| 592/592 [00:04<00:00, 143.41it/s]\n"
     ]
    },
    {
     "name": "stdout",
     "output_type": "stream",
     "text": [
      "Epoch 16 | Train Loss: 27204.0180 | Val RMSE: 501.19 | Val R2: 0.4160\n"
     ]
    },
    {
     "name": "stderr",
     "output_type": "stream",
     "text": [
      "Epoch 17 [Train]: 100%|████████████████████████████████████████████████████████████████████████████| 2368/2368 [00:25<00:00, 92.27it/s]\n",
      "Epoch 17 [Val]: 100%|███████████████████████████████████████████████████████████████████████████████| 592/592 [00:04<00:00, 142.90it/s]\n"
     ]
    },
    {
     "name": "stdout",
     "output_type": "stream",
     "text": [
      "Epoch 17 | Train Loss: 27022.1722 | Val RMSE: 450.81 | Val R2: 0.5275\n"
     ]
    },
    {
     "name": "stderr",
     "output_type": "stream",
     "text": [
      "Epoch 18 [Train]: 100%|████████████████████████████████████████████████████████████████████████████| 2368/2368 [00:26<00:00, 90.76it/s]\n",
      "Epoch 18 [Val]: 100%|███████████████████████████████████████████████████████████████████████████████| 592/592 [00:04<00:00, 139.06it/s]\n"
     ]
    },
    {
     "name": "stdout",
     "output_type": "stream",
     "text": [
      "Epoch 18 | Train Loss: 26859.7548 | Val RMSE: 928.84 | Val R2: -1.0059\n"
     ]
    },
    {
     "name": "stderr",
     "output_type": "stream",
     "text": [
      "Epoch 19 [Train]: 100%|████████████████████████████████████████████████████████████████████████████| 2368/2368 [00:26<00:00, 90.24it/s]\n",
      "Epoch 19 [Val]: 100%|███████████████████████████████████████████████████████████████████████████████| 592/592 [00:04<00:00, 142.60it/s]\n"
     ]
    },
    {
     "name": "stdout",
     "output_type": "stream",
     "text": [
      "Epoch 19 | Train Loss: 26947.7874 | Val RMSE: 1040.57 | Val R2: -1.5175\n"
     ]
    },
    {
     "name": "stderr",
     "output_type": "stream",
     "text": [
      "Epoch 20 [Train]: 100%|████████████████████████████████████████████████████████████████████████████| 2368/2368 [00:26<00:00, 88.72it/s]\n",
      "Epoch 20 [Val]: 100%|███████████████████████████████████████████████████████████████████████████████| 592/592 [00:04<00:00, 140.58it/s]\n"
     ]
    },
    {
     "name": "stdout",
     "output_type": "stream",
     "text": [
      "Epoch 20 | Train Loss: 27023.3390 | Val RMSE: 303.96 | Val R2: 0.7852\n"
     ]
    },
    {
     "name": "stderr",
     "output_type": "stream",
     "text": [
      "Epoch 21 [Train]: 100%|████████████████████████████████████████████████████████████████████████████| 2368/2368 [00:25<00:00, 91.61it/s]\n",
      "Epoch 21 [Val]: 100%|███████████████████████████████████████████████████████████████████████████████| 592/592 [00:04<00:00, 146.85it/s]\n"
     ]
    },
    {
     "name": "stdout",
     "output_type": "stream",
     "text": [
      "Epoch 21 | Train Loss: 26759.7319 | Val RMSE: 202.84 | Val R2: 0.9043\n"
     ]
    },
    {
     "name": "stderr",
     "output_type": "stream",
     "text": [
      "Epoch 22 [Train]: 100%|████████████████████████████████████████████████████████████████████████████| 2368/2368 [00:25<00:00, 93.77it/s]\n",
      "Epoch 22 [Val]: 100%|███████████████████████████████████████████████████████████████████████████████| 592/592 [00:04<00:00, 143.67it/s]\n"
     ]
    },
    {
     "name": "stdout",
     "output_type": "stream",
     "text": [
      "Epoch 22 | Train Loss: 26467.3341 | Val RMSE: 176.46 | Val R2: 0.9276\n"
     ]
    },
    {
     "name": "stderr",
     "output_type": "stream",
     "text": [
      "Epoch 23 [Train]: 100%|████████████████████████████████████████████████████████████████████████████| 2368/2368 [00:25<00:00, 91.60it/s]\n",
      "Epoch 23 [Val]: 100%|███████████████████████████████████████████████████████████████████████████████| 592/592 [00:04<00:00, 137.13it/s]\n"
     ]
    },
    {
     "name": "stdout",
     "output_type": "stream",
     "text": [
      "Epoch 23 | Train Loss: 26581.9681 | Val RMSE: 931.52 | Val R2: -1.0175\n"
     ]
    },
    {
     "name": "stderr",
     "output_type": "stream",
     "text": [
      "Epoch 24 [Train]: 100%|████████████████████████████████████████████████████████████████████████████| 2368/2368 [00:25<00:00, 92.39it/s]\n",
      "Epoch 24 [Val]: 100%|███████████████████████████████████████████████████████████████████████████████| 592/592 [00:04<00:00, 141.50it/s]\n"
     ]
    },
    {
     "name": "stdout",
     "output_type": "stream",
     "text": [
      "Epoch 24 | Train Loss: 26401.4688 | Val RMSE: 838.50 | Val R2: -0.6347\n"
     ]
    },
    {
     "name": "stderr",
     "output_type": "stream",
     "text": [
      "Epoch 25 [Train]: 100%|████████████████████████████████████████████████████████████████████████████| 2368/2368 [00:25<00:00, 93.32it/s]\n",
      "Epoch 25 [Val]: 100%|███████████████████████████████████████████████████████████████████████████████| 592/592 [00:04<00:00, 142.02it/s]\n"
     ]
    },
    {
     "name": "stdout",
     "output_type": "stream",
     "text": [
      "Epoch 25 | Train Loss: 26442.6439 | Val RMSE: 182.99 | Val R2: 0.9221\n"
     ]
    },
    {
     "name": "stderr",
     "output_type": "stream",
     "text": [
      "Epoch 26 [Train]: 100%|████████████████████████████████████████████████████████████████████████████| 2368/2368 [00:26<00:00, 89.64it/s]\n",
      "Epoch 26 [Val]: 100%|███████████████████████████████████████████████████████████████████████████████| 592/592 [00:04<00:00, 141.26it/s]\n"
     ]
    },
    {
     "name": "stdout",
     "output_type": "stream",
     "text": [
      "Epoch 26 | Train Loss: 26357.0774 | Val RMSE: 182.15 | Val R2: 0.9229\n"
     ]
    },
    {
     "name": "stderr",
     "output_type": "stream",
     "text": [
      "Epoch 27 [Train]: 100%|████████████████████████████████████████████████████████████████████████████| 2368/2368 [00:26<00:00, 89.04it/s]\n",
      "Epoch 27 [Val]: 100%|███████████████████████████████████████████████████████████████████████████████| 592/592 [00:04<00:00, 137.21it/s]\n"
     ]
    },
    {
     "name": "stdout",
     "output_type": "stream",
     "text": [
      "Epoch 27 | Train Loss: 26431.7483 | Val RMSE: 207.67 | Val R2: 0.8997\n"
     ]
    },
    {
     "name": "stderr",
     "output_type": "stream",
     "text": [
      "Epoch 28 [Train]: 100%|████████████████████████████████████████████████████████████████████████████| 2368/2368 [00:26<00:00, 89.74it/s]\n",
      "Epoch 28 [Val]: 100%|███████████████████████████████████████████████████████████████████████████████| 592/592 [00:04<00:00, 140.21it/s]\n"
     ]
    },
    {
     "name": "stdout",
     "output_type": "stream",
     "text": [
      "Epoch 28 | Train Loss: 26340.5622 | Val RMSE: 167.53 | Val R2: 0.9347\n"
     ]
    },
    {
     "name": "stderr",
     "output_type": "stream",
     "text": [
      "Epoch 29 [Train]: 100%|████████████████████████████████████████████████████████████████████████████| 2368/2368 [00:26<00:00, 89.26it/s]\n",
      "Epoch 29 [Val]: 100%|███████████████████████████████████████████████████████████████████████████████| 592/592 [00:04<00:00, 139.04it/s]\n"
     ]
    },
    {
     "name": "stdout",
     "output_type": "stream",
     "text": [
      "Epoch 29 | Train Loss: 26299.1054 | Val RMSE: 317.48 | Val R2: 0.7657\n"
     ]
    },
    {
     "name": "stderr",
     "output_type": "stream",
     "text": [
      "Epoch 30 [Train]: 100%|████████████████████████████████████████████████████████████████████████████| 2368/2368 [00:27<00:00, 87.09it/s]\n",
      "Epoch 30 [Val]: 100%|███████████████████████████████████████████████████████████████████████████████| 592/592 [00:04<00:00, 137.28it/s]\n"
     ]
    },
    {
     "name": "stdout",
     "output_type": "stream",
     "text": [
      "Epoch 30 | Train Loss: 26289.2967 | Val RMSE: 243.65 | Val R2: 0.8620\n"
     ]
    },
    {
     "name": "stderr",
     "output_type": "stream",
     "text": [
      "Epoch 31 [Train]: 100%|████████████████████████████████████████████████████████████████████████████| 2368/2368 [00:26<00:00, 89.91it/s]\n",
      "Epoch 31 [Val]: 100%|███████████████████████████████████████████████████████████████████████████████| 592/592 [00:04<00:00, 139.40it/s]\n"
     ]
    },
    {
     "name": "stdout",
     "output_type": "stream",
     "text": [
      "Epoch 31 | Train Loss: 26387.7155 | Val RMSE: 235.69 | Val R2: 0.8708\n"
     ]
    },
    {
     "name": "stderr",
     "output_type": "stream",
     "text": [
      "Epoch 32 [Train]: 100%|████████████████████████████████████████████████████████████████████████████| 2368/2368 [00:26<00:00, 90.08it/s]\n",
      "Epoch 32 [Val]: 100%|███████████████████████████████████████████████████████████████████████████████| 592/592 [00:04<00:00, 143.93it/s]\n"
     ]
    },
    {
     "name": "stdout",
     "output_type": "stream",
     "text": [
      "Epoch 32 | Train Loss: 26384.7327 | Val RMSE: 238.68 | Val R2: 0.8675\n"
     ]
    },
    {
     "name": "stderr",
     "output_type": "stream",
     "text": [
      "Epoch 33 [Train]: 100%|████████████████████████████████████████████████████████████████████████████| 2368/2368 [00:26<00:00, 90.38it/s]\n",
      "Epoch 33 [Val]: 100%|███████████████████████████████████████████████████████████████████████████████| 592/592 [00:04<00:00, 142.02it/s]\n"
     ]
    },
    {
     "name": "stdout",
     "output_type": "stream",
     "text": [
      "Epoch 33 | Train Loss: 26350.3017 | Val RMSE: 448.88 | Val R2: 0.5315\n"
     ]
    },
    {
     "name": "stderr",
     "output_type": "stream",
     "text": [
      "Epoch 34 [Train]: 100%|████████████████████████████████████████████████████████████████████████████| 2368/2368 [00:26<00:00, 90.74it/s]\n",
      "Epoch 34 [Val]: 100%|███████████████████████████████████████████████████████████████████████████████| 592/592 [00:04<00:00, 143.14it/s]\n"
     ]
    },
    {
     "name": "stdout",
     "output_type": "stream",
     "text": [
      "Epoch 34 | Train Loss: 26283.5329 | Val RMSE: 373.00 | Val R2: 0.6765\n"
     ]
    },
    {
     "name": "stderr",
     "output_type": "stream",
     "text": [
      "Epoch 35 [Train]: 100%|████████████████████████████████████████████████████████████████████████████| 2368/2368 [00:26<00:00, 89.95it/s]\n",
      "Epoch 35 [Val]: 100%|███████████████████████████████████████████████████████████████████████████████| 592/592 [00:04<00:00, 139.97it/s]\n"
     ]
    },
    {
     "name": "stdout",
     "output_type": "stream",
     "text": [
      "Epoch 35 | Train Loss: 26347.8904 | Val RMSE: 541.96 | Val R2: 0.3171\n"
     ]
    },
    {
     "name": "stderr",
     "output_type": "stream",
     "text": [
      "Epoch 36 [Train]: 100%|████████████████████████████████████████████████████████████████████████████| 2368/2368 [00:26<00:00, 89.03it/s]\n",
      "Epoch 36 [Val]: 100%|███████████████████████████████████████████████████████████████████████████████| 592/592 [00:04<00:00, 144.36it/s]\n"
     ]
    },
    {
     "name": "stdout",
     "output_type": "stream",
     "text": [
      "Epoch 36 | Train Loss: 26017.7362 | Val RMSE: 1460.01 | Val R2: -3.9561\n"
     ]
    },
    {
     "name": "stderr",
     "output_type": "stream",
     "text": [
      "Epoch 37 [Train]: 100%|████████████████████████████████████████████████████████████████████████████| 2368/2368 [00:27<00:00, 85.81it/s]\n",
      "Epoch 37 [Val]: 100%|███████████████████████████████████████████████████████████████████████████████| 592/592 [00:04<00:00, 136.20it/s]\n"
     ]
    },
    {
     "name": "stdout",
     "output_type": "stream",
     "text": [
      "Epoch 37 | Train Loss: 26071.8235 | Val RMSE: 625.04 | Val R2: 0.0917\n"
     ]
    },
    {
     "name": "stderr",
     "output_type": "stream",
     "text": [
      "Epoch 38 [Train]: 100%|████████████████████████████████████████████████████████████████████████████| 2368/2368 [00:26<00:00, 87.75it/s]\n",
      "Epoch 38 [Val]: 100%|███████████████████████████████████████████████████████████████████████████████| 592/592 [00:04<00:00, 129.55it/s]\n"
     ]
    },
    {
     "name": "stdout",
     "output_type": "stream",
     "text": [
      "Epoch 38 | Train Loss: 26093.3465 | Val RMSE: 1457.18 | Val R2: -3.9369\n"
     ]
    },
    {
     "name": "stderr",
     "output_type": "stream",
     "text": [
      "Epoch 39 [Train]: 100%|███████████████████████████████████████████████████████████████████████████| 2368/2368 [00:23<00:00, 100.52it/s]\n",
      "Epoch 39 [Val]: 100%|███████████████████████████████████████████████████████████████████████████████| 592/592 [00:03<00:00, 161.56it/s]\n"
     ]
    },
    {
     "name": "stdout",
     "output_type": "stream",
     "text": [
      "Epoch 39 | Train Loss: 26030.3202 | Val RMSE: 2950.84 | Val R2: -19.2452\n"
     ]
    },
    {
     "name": "stderr",
     "output_type": "stream",
     "text": [
      "Epoch 40 [Train]: 100%|███████████████████████████████████████████████████████████████████████████| 2368/2368 [00:22<00:00, 104.54it/s]\n",
      "Epoch 40 [Val]: 100%|███████████████████████████████████████████████████████████████████████████████| 592/592 [00:03<00:00, 160.79it/s]\n"
     ]
    },
    {
     "name": "stdout",
     "output_type": "stream",
     "text": [
      "Epoch 40 | Train Loss: 26062.0491 | Val RMSE: 578.20 | Val R2: 0.2227\n"
     ]
    },
    {
     "name": "stderr",
     "output_type": "stream",
     "text": [
      "Epoch 41 [Train]: 100%|████████████████████████████████████████████████████████████████████████████| 2368/2368 [00:25<00:00, 91.62it/s]\n",
      "Epoch 41 [Val]: 100%|███████████████████████████████████████████████████████████████████████████████| 592/592 [00:04<00:00, 142.89it/s]\n"
     ]
    },
    {
     "name": "stdout",
     "output_type": "stream",
     "text": [
      "Epoch 41 | Train Loss: 26019.3332 | Val RMSE: 1409.99 | Val R2: -3.6223\n"
     ]
    },
    {
     "name": "stderr",
     "output_type": "stream",
     "text": [
      "Epoch 42 [Train]: 100%|████████████████████████████████████████████████████████████████████████████| 2368/2368 [00:26<00:00, 91.01it/s]\n",
      "Epoch 42 [Val]: 100%|███████████████████████████████████████████████████████████████████████████████| 592/592 [00:04<00:00, 136.86it/s]\n"
     ]
    },
    {
     "name": "stdout",
     "output_type": "stream",
     "text": [
      "Epoch 42 | Train Loss: 26021.9183 | Val RMSE: 422.07 | Val R2: 0.5858\n"
     ]
    },
    {
     "name": "stderr",
     "output_type": "stream",
     "text": [
      "Epoch 43 [Train]: 100%|████████████████████████████████████████████████████████████████████████████| 2368/2368 [00:26<00:00, 89.22it/s]\n",
      "Epoch 43 [Val]: 100%|███████████████████████████████████████████████████████████████████████████████| 592/592 [00:04<00:00, 142.85it/s]\n"
     ]
    },
    {
     "name": "stdout",
     "output_type": "stream",
     "text": [
      "Epoch 43 | Train Loss: 26077.7572 | Val RMSE: 448.80 | Val R2: 0.5317\n"
     ]
    },
    {
     "name": "stderr",
     "output_type": "stream",
     "text": [
      "Epoch 44 [Train]: 100%|████████████████████████████████████████████████████████████████████████████| 2368/2368 [00:25<00:00, 91.08it/s]\n",
      "Epoch 44 [Val]: 100%|███████████████████████████████████████████████████████████████████████████████| 592/592 [00:04<00:00, 137.10it/s]\n"
     ]
    },
    {
     "name": "stdout",
     "output_type": "stream",
     "text": [
      "Epoch 44 | Train Loss: 26021.1056 | Val RMSE: 219.80 | Val R2: 0.8877\n"
     ]
    },
    {
     "name": "stderr",
     "output_type": "stream",
     "text": [
      "Epoch 45 [Train]: 100%|████████████████████████████████████████████████████████████████████████████| 2368/2368 [00:27<00:00, 84.88it/s]\n",
      "Epoch 45 [Val]: 100%|███████████████████████████████████████████████████████████████████████████████| 592/592 [00:04<00:00, 138.74it/s]\n"
     ]
    },
    {
     "name": "stdout",
     "output_type": "stream",
     "text": [
      "Epoch 45 | Train Loss: 25905.3692 | Val RMSE: 347.05 | Val R2: 0.7200\n"
     ]
    },
    {
     "name": "stderr",
     "output_type": "stream",
     "text": [
      "Epoch 46 [Train]: 100%|████████████████████████████████████████████████████████████████████████████| 2368/2368 [00:27<00:00, 86.66it/s]\n",
      "Epoch 46 [Val]: 100%|███████████████████████████████████████████████████████████████████████████████| 592/592 [00:04<00:00, 134.44it/s]\n"
     ]
    },
    {
     "name": "stdout",
     "output_type": "stream",
     "text": [
      "Epoch 46 | Train Loss: 26013.0753 | Val RMSE: 276.77 | Val R2: 0.8219\n"
     ]
    },
    {
     "name": "stderr",
     "output_type": "stream",
     "text": [
      "Epoch 47 [Train]: 100%|████████████████████████████████████████████████████████████████████████████| 2368/2368 [00:25<00:00, 91.41it/s]\n",
      "Epoch 47 [Val]: 100%|███████████████████████████████████████████████████████████████████████████████| 592/592 [00:04<00:00, 128.68it/s]\n"
     ]
    },
    {
     "name": "stdout",
     "output_type": "stream",
     "text": [
      "Epoch 47 | Train Loss: 25959.7584 | Val RMSE: 380.04 | Val R2: 0.6642\n"
     ]
    },
    {
     "name": "stderr",
     "output_type": "stream",
     "text": [
      "Epoch 48 [Train]: 100%|████████████████████████████████████████████████████████████████████████████| 2368/2368 [00:26<00:00, 90.36it/s]\n",
      "Epoch 48 [Val]: 100%|███████████████████████████████████████████████████████████████████████████████| 592/592 [00:03<00:00, 168.36it/s]"
     ]
    },
    {
     "name": "stdout",
     "output_type": "stream",
     "text": [
      "Epoch 48 | Train Loss: 25836.1417 | Val RMSE: 171.06 | Val R2: 0.9320\n",
      "Early stopping triggered.\n"
     ]
    },
    {
     "name": "stderr",
     "output_type": "stream",
     "text": [
      "\n",
      "C:\\Users\\Sriram\\AppData\\Local\\Temp\\ipykernel_97364\\550459154.py:87: FutureWarning: You are using `torch.load` with `weights_only=False` (the current default value), which uses the default pickle module implicitly. It is possible to construct malicious pickle data which will execute arbitrary code during unpickling (See https://github.com/pytorch/pytorch/blob/main/SECURITY.md#untrusted-models for more details). In a future release, the default value for `weights_only` will be flipped to `True`. This limits the functions that could be executed during unpickling. Arbitrary objects will no longer be allowed to be loaded via this mode unless they are explicitly allowlisted by the user via `torch.serialization.add_safe_globals`. We recommend you start setting `weights_only=True` for any use case where you don't have full control of the loaded file. Please open an issue on GitHub for any issues related to this experimental feature.\n",
      "  model.load_state_dict(torch.load(config['train']['PyNN']['model_path']))\n"
     ]
    }
   ],
   "source": [
    "import torch\n",
    "import torch.nn as nn\n",
    "from torch.utils.data import DataLoader\n",
    "from sklearn.metrics import mean_squared_error, r2_score\n",
    "from tqdm import tqdm\n",
    "\n",
    "# Print CUDA info for debugging\n",
    "print(\"PyTorch version:\", torch.__version__)\n",
    "print(\"CUDA available:\", torch.cuda.is_available())\n",
    "print(\"CUDA device count:\", torch.cuda.device_count())\n",
    "print(\"CUDA device name:\", torch.cuda.get_device_name(0) if torch.cuda.is_available() else \"None\")\n",
    "\n",
    "class TaxiNet(nn.Module):\n",
    "    def __init__(self, emb_dims, n_num):\n",
    "        super().__init__()\n",
    "        self.embeddings = nn.ModuleList([nn.Embedding(x, y) for x, y in emb_dims])\n",
    "        emb_dim_sum = sum([y for x, y in emb_dims])\n",
    "        self.fc = nn.Sequential(\n",
    "            nn.Linear(emb_dim_sum + n_num, 256),\n",
    "            nn.ReLU(),\n",
    "            nn.BatchNorm1d(256),\n",
    "            nn.Dropout(0.3),\n",
    "            nn.Linear(256, 128),\n",
    "            nn.ReLU(),\n",
    "            nn.BatchNorm1d(128),\n",
    "            nn.Dropout(0.1),\n",
    "            nn.Linear(128, 1)\n",
    "        )\n",
    "    def forward(self, x_cat, x_num):\n",
    "        x = [emb(x_cat[:, i]) for i, emb in enumerate(self.embeddings)]\n",
    "        x = torch.cat(x, 1)\n",
    "        x = torch.cat([x, x_num], 1)\n",
    "        return self.fc(x).squeeze(1)\n",
    "\n",
    "# Set device and move model to device\n",
    "device = torch.device('cuda' if torch.cuda.is_available() else 'cpu')\n",
    "model = TaxiNet(emb_dims, len(numerical_cols)).to(device)\n",
    "optimizer = torch.optim.AdamW(model.parameters(), lr=config['train']['PyNN']['lr'])\n",
    "criterion = nn.MSELoss()\n",
    "\n",
    "# Use a reasonable batch size and num_workers=0 for debugging\n",
    "BATCH_SIZE = config['train']['PyNN']['batch_size']\n",
    "train_loader = DataLoader(train_ds, batch_size=BATCH_SIZE, shuffle=True, num_workers=config['train']['PyNN']['num_workers'])\n",
    "val_loader = DataLoader(val_ds, batch_size=BATCH_SIZE, shuffle=False, num_workers=config['train']['PyNN']['num_workers'])\n",
    "\n",
    "# Training loop with tqdm and early stopping\n",
    "best_r2 = -np.inf\n",
    "patience, patience_counter = config['train']['PyNN']['patience'], config['train']['PyNN']['patience_counter']\n",
    "EPOCHS = config['train']['PyNN']['epochs']\n",
    "\n",
    "for epoch in range(EPOCHS):\n",
    "    model.train()\n",
    "    train_losses = []\n",
    "    for x_cat, x_num, y_batch in tqdm(train_loader, desc=f\"Epoch {epoch+1} [Train]\"):\n",
    "        x_cat, x_num, y_batch = x_cat.to(device), x_num.to(device), y_batch.to(device)\n",
    "        optimizer.zero_grad()\n",
    "        preds = model(x_cat, x_num)\n",
    "        loss = criterion(preds, y_batch)\n",
    "        loss.backward()\n",
    "        optimizer.step()\n",
    "        train_losses.append(loss.item())\n",
    "    model.eval()\n",
    "    val_preds = []\n",
    "    val_targets = []\n",
    "    with torch.no_grad():\n",
    "        for x_cat, x_num, y_batch in tqdm(val_loader, desc=f\"Epoch {epoch+1} [Val]\"):\n",
    "            x_cat, x_num = x_cat.to(device), x_num.to(device)\n",
    "            preds = model(x_cat, x_num).cpu().numpy()\n",
    "            val_preds.append(preds)\n",
    "            val_targets.append(y_batch.numpy())\n",
    "    val_preds = np.concatenate(val_preds)\n",
    "    val_targets = np.concatenate(val_targets)\n",
    "    val_rmse = np.sqrt(mean_squared_error(val_targets, val_preds))\n",
    "    val_r2 = r2_score(val_targets, val_preds)\n",
    "    print(f\"Epoch {epoch+1:02d} | Train Loss: {np.mean(train_losses):.4f} | Val RMSE: {val_rmse:.2f} | Val R2: {val_r2:.4f}\")\n",
    "    if val_r2 > best_r2:\n",
    "        best_r2 = val_r2\n",
    "        patience_counter = 0\n",
    "        torch.save(model.state_dict(), config['train']['PyNN']['model_path'])\n",
    "    else:\n",
    "        patience_counter += 1\n",
    "        if patience_counter >= patience:\n",
    "            print(\"Early stopping triggered.\")\n",
    "            break\n",
    "\n",
    "# Load best model and get predictions for stacking\n",
    "model.load_state_dict(torch.load(config['train']['PyNN']['model_path']))\n",
    "model.eval()\n",
    "\n",
    "def get_nn_preds(X_df):\n",
    "    ds = TaxiDataset(X_df, np.zeros(len(X_df)), categorical_cols, numerical_cols)\n",
    "    dl = DataLoader(ds, batch_size=BATCH_SIZE, shuffle=False, num_workers=config['train']['PyNN']['num_workers'])\n",
    "    preds = []\n",
    "    with torch.no_grad():\n",
    "        for x_cat, x_num, _ in tqdm(dl, desc=\"Predicting\"):\n",
    "            x_cat, x_num = x_cat.to(device), x_num.to(device)\n",
    "            batch_preds = model(x_cat, x_num).cpu().numpy()\n",
    "            preds.append(batch_preds)\n",
    "    return np.concatenate(preds)"
   ]
  },
  {
   "cell_type": "markdown",
   "id": "fa27341a-5f7f-47a6-bc6c-a25fcccc7a0c",
   "metadata": {},
   "source": [
    "## 1. PyTorch Neural Network Evaluation"
   ]
  },
  {
   "cell_type": "code",
   "execution_count": 13,
   "id": "429ef974-0d17-4aa6-bcaf-653e08d50f24",
   "metadata": {},
   "outputs": [
    {
     "name": "stderr",
     "output_type": "stream",
     "text": [
      "C:\\Users\\Sriram\\AppData\\Local\\Temp\\ipykernel_97364\\2558338722.py:5: FutureWarning: You are using `torch.load` with `weights_only=False` (the current default value), which uses the default pickle module implicitly. It is possible to construct malicious pickle data which will execute arbitrary code during unpickling (See https://github.com/pytorch/pytorch/blob/main/SECURITY.md#untrusted-models for more details). In a future release, the default value for `weights_only` will be flipped to `True`. This limits the functions that could be executed during unpickling. Arbitrary objects will no longer be allowed to be loaded via this mode unless they are explicitly allowlisted by the user via `torch.serialization.add_safe_globals`. We recommend you start setting `weights_only=True` for any use case where you don't have full control of the loaded file. Please open an issue on GitHub for any issues related to this experimental feature.\n",
      "  model.load_state_dict(torch.load(config['train']['PyNN']['model_path']))\n"
     ]
    },
    {
     "name": "stdout",
     "output_type": "stream",
     "text": [
      "PyTorch NN - RMSE: 167.53, R²: 0.9347\n"
     ]
    }
   ],
   "source": [
    "from sklearn.metrics import mean_squared_error, r2_score\n",
    "import numpy as np\n",
    "\n",
    "# After training and loading best model weights\n",
    "model.load_state_dict(torch.load(config['train']['PyNN']['model_path']))\n",
    "model.eval()\n",
    "\n",
    "# Get predictions on validation set\n",
    "val_preds = []\n",
    "val_targets = []\n",
    "with torch.no_grad():\n",
    "    for x_cat, x_num, y_batch in val_loader:\n",
    "        x_cat, x_num = x_cat.to(device), x_num.to(device)\n",
    "        preds = model(x_cat, x_num).cpu().numpy()\n",
    "        val_preds.append(preds)\n",
    "        val_targets.append(y_batch.numpy())\n",
    "val_preds = np.concatenate(val_preds)\n",
    "val_targets = np.concatenate(val_targets)\n",
    "\n",
    "# Remove any NaNs just in case\n",
    "mask = ~np.isnan(val_preds) & ~np.isnan(val_targets)\n",
    "val_preds = val_preds[mask]\n",
    "val_targets = val_targets[mask]\n",
    "\n",
    "# Calculate RMSE and R²\n",
    "rmse = np.sqrt(mean_squared_error(val_targets, val_preds))\n",
    "r2 = r2_score(val_targets, val_preds)\n",
    "print(f\"PyTorch NN - RMSE: {rmse:.2f}, R²: {r2:.4f}\")\n"
   ]
  },
  {
   "cell_type": "markdown",
   "id": "9fb9d3b0-e627-458a-b66c-5d23e8ea3768",
   "metadata": {},
   "source": [
    "## XGBoost"
   ]
  },
  {
   "cell_type": "code",
   "execution_count": 14,
   "id": "a4ab3f5c-6776-4c41-8d89-6a31f86ed81e",
   "metadata": {},
   "outputs": [
    {
     "data": {
      "text/html": [
       "<style>#sk-container-id-1 {\n",
       "  /* Definition of color scheme common for light and dark mode */\n",
       "  --sklearn-color-text: #000;\n",
       "  --sklearn-color-text-muted: #666;\n",
       "  --sklearn-color-line: gray;\n",
       "  /* Definition of color scheme for unfitted estimators */\n",
       "  --sklearn-color-unfitted-level-0: #fff5e6;\n",
       "  --sklearn-color-unfitted-level-1: #f6e4d2;\n",
       "  --sklearn-color-unfitted-level-2: #ffe0b3;\n",
       "  --sklearn-color-unfitted-level-3: chocolate;\n",
       "  /* Definition of color scheme for fitted estimators */\n",
       "  --sklearn-color-fitted-level-0: #f0f8ff;\n",
       "  --sklearn-color-fitted-level-1: #d4ebff;\n",
       "  --sklearn-color-fitted-level-2: #b3dbfd;\n",
       "  --sklearn-color-fitted-level-3: cornflowerblue;\n",
       "\n",
       "  /* Specific color for light theme */\n",
       "  --sklearn-color-text-on-default-background: var(--sg-text-color, var(--theme-code-foreground, var(--jp-content-font-color1, black)));\n",
       "  --sklearn-color-background: var(--sg-background-color, var(--theme-background, var(--jp-layout-color0, white)));\n",
       "  --sklearn-color-border-box: var(--sg-text-color, var(--theme-code-foreground, var(--jp-content-font-color1, black)));\n",
       "  --sklearn-color-icon: #696969;\n",
       "\n",
       "  @media (prefers-color-scheme: dark) {\n",
       "    /* Redefinition of color scheme for dark theme */\n",
       "    --sklearn-color-text-on-default-background: var(--sg-text-color, var(--theme-code-foreground, var(--jp-content-font-color1, white)));\n",
       "    --sklearn-color-background: var(--sg-background-color, var(--theme-background, var(--jp-layout-color0, #111)));\n",
       "    --sklearn-color-border-box: var(--sg-text-color, var(--theme-code-foreground, var(--jp-content-font-color1, white)));\n",
       "    --sklearn-color-icon: #878787;\n",
       "  }\n",
       "}\n",
       "\n",
       "#sk-container-id-1 {\n",
       "  color: var(--sklearn-color-text);\n",
       "}\n",
       "\n",
       "#sk-container-id-1 pre {\n",
       "  padding: 0;\n",
       "}\n",
       "\n",
       "#sk-container-id-1 input.sk-hidden--visually {\n",
       "  border: 0;\n",
       "  clip: rect(1px 1px 1px 1px);\n",
       "  clip: rect(1px, 1px, 1px, 1px);\n",
       "  height: 1px;\n",
       "  margin: -1px;\n",
       "  overflow: hidden;\n",
       "  padding: 0;\n",
       "  position: absolute;\n",
       "  width: 1px;\n",
       "}\n",
       "\n",
       "#sk-container-id-1 div.sk-dashed-wrapped {\n",
       "  border: 1px dashed var(--sklearn-color-line);\n",
       "  margin: 0 0.4em 0.5em 0.4em;\n",
       "  box-sizing: border-box;\n",
       "  padding-bottom: 0.4em;\n",
       "  background-color: var(--sklearn-color-background);\n",
       "}\n",
       "\n",
       "#sk-container-id-1 div.sk-container {\n",
       "  /* jupyter's `normalize.less` sets `[hidden] { display: none; }`\n",
       "     but bootstrap.min.css set `[hidden] { display: none !important; }`\n",
       "     so we also need the `!important` here to be able to override the\n",
       "     default hidden behavior on the sphinx rendered scikit-learn.org.\n",
       "     See: https://github.com/scikit-learn/scikit-learn/issues/21755 */\n",
       "  display: inline-block !important;\n",
       "  position: relative;\n",
       "}\n",
       "\n",
       "#sk-container-id-1 div.sk-text-repr-fallback {\n",
       "  display: none;\n",
       "}\n",
       "\n",
       "div.sk-parallel-item,\n",
       "div.sk-serial,\n",
       "div.sk-item {\n",
       "  /* draw centered vertical line to link estimators */\n",
       "  background-image: linear-gradient(var(--sklearn-color-text-on-default-background), var(--sklearn-color-text-on-default-background));\n",
       "  background-size: 2px 100%;\n",
       "  background-repeat: no-repeat;\n",
       "  background-position: center center;\n",
       "}\n",
       "\n",
       "/* Parallel-specific style estimator block */\n",
       "\n",
       "#sk-container-id-1 div.sk-parallel-item::after {\n",
       "  content: \"\";\n",
       "  width: 100%;\n",
       "  border-bottom: 2px solid var(--sklearn-color-text-on-default-background);\n",
       "  flex-grow: 1;\n",
       "}\n",
       "\n",
       "#sk-container-id-1 div.sk-parallel {\n",
       "  display: flex;\n",
       "  align-items: stretch;\n",
       "  justify-content: center;\n",
       "  background-color: var(--sklearn-color-background);\n",
       "  position: relative;\n",
       "}\n",
       "\n",
       "#sk-container-id-1 div.sk-parallel-item {\n",
       "  display: flex;\n",
       "  flex-direction: column;\n",
       "}\n",
       "\n",
       "#sk-container-id-1 div.sk-parallel-item:first-child::after {\n",
       "  align-self: flex-end;\n",
       "  width: 50%;\n",
       "}\n",
       "\n",
       "#sk-container-id-1 div.sk-parallel-item:last-child::after {\n",
       "  align-self: flex-start;\n",
       "  width: 50%;\n",
       "}\n",
       "\n",
       "#sk-container-id-1 div.sk-parallel-item:only-child::after {\n",
       "  width: 0;\n",
       "}\n",
       "\n",
       "/* Serial-specific style estimator block */\n",
       "\n",
       "#sk-container-id-1 div.sk-serial {\n",
       "  display: flex;\n",
       "  flex-direction: column;\n",
       "  align-items: center;\n",
       "  background-color: var(--sklearn-color-background);\n",
       "  padding-right: 1em;\n",
       "  padding-left: 1em;\n",
       "}\n",
       "\n",
       "\n",
       "/* Toggleable style: style used for estimator/Pipeline/ColumnTransformer box that is\n",
       "clickable and can be expanded/collapsed.\n",
       "- Pipeline and ColumnTransformer use this feature and define the default style\n",
       "- Estimators will overwrite some part of the style using the `sk-estimator` class\n",
       "*/\n",
       "\n",
       "/* Pipeline and ColumnTransformer style (default) */\n",
       "\n",
       "#sk-container-id-1 div.sk-toggleable {\n",
       "  /* Default theme specific background. It is overwritten whether we have a\n",
       "  specific estimator or a Pipeline/ColumnTransformer */\n",
       "  background-color: var(--sklearn-color-background);\n",
       "}\n",
       "\n",
       "/* Toggleable label */\n",
       "#sk-container-id-1 label.sk-toggleable__label {\n",
       "  cursor: pointer;\n",
       "  display: flex;\n",
       "  width: 100%;\n",
       "  margin-bottom: 0;\n",
       "  padding: 0.5em;\n",
       "  box-sizing: border-box;\n",
       "  text-align: center;\n",
       "  align-items: start;\n",
       "  justify-content: space-between;\n",
       "  gap: 0.5em;\n",
       "}\n",
       "\n",
       "#sk-container-id-1 label.sk-toggleable__label .caption {\n",
       "  font-size: 0.6rem;\n",
       "  font-weight: lighter;\n",
       "  color: var(--sklearn-color-text-muted);\n",
       "}\n",
       "\n",
       "#sk-container-id-1 label.sk-toggleable__label-arrow:before {\n",
       "  /* Arrow on the left of the label */\n",
       "  content: \"▸\";\n",
       "  float: left;\n",
       "  margin-right: 0.25em;\n",
       "  color: var(--sklearn-color-icon);\n",
       "}\n",
       "\n",
       "#sk-container-id-1 label.sk-toggleable__label-arrow:hover:before {\n",
       "  color: var(--sklearn-color-text);\n",
       "}\n",
       "\n",
       "/* Toggleable content - dropdown */\n",
       "\n",
       "#sk-container-id-1 div.sk-toggleable__content {\n",
       "  max-height: 0;\n",
       "  max-width: 0;\n",
       "  overflow: hidden;\n",
       "  text-align: left;\n",
       "  /* unfitted */\n",
       "  background-color: var(--sklearn-color-unfitted-level-0);\n",
       "}\n",
       "\n",
       "#sk-container-id-1 div.sk-toggleable__content.fitted {\n",
       "  /* fitted */\n",
       "  background-color: var(--sklearn-color-fitted-level-0);\n",
       "}\n",
       "\n",
       "#sk-container-id-1 div.sk-toggleable__content pre {\n",
       "  margin: 0.2em;\n",
       "  border-radius: 0.25em;\n",
       "  color: var(--sklearn-color-text);\n",
       "  /* unfitted */\n",
       "  background-color: var(--sklearn-color-unfitted-level-0);\n",
       "}\n",
       "\n",
       "#sk-container-id-1 div.sk-toggleable__content.fitted pre {\n",
       "  /* unfitted */\n",
       "  background-color: var(--sklearn-color-fitted-level-0);\n",
       "}\n",
       "\n",
       "#sk-container-id-1 input.sk-toggleable__control:checked~div.sk-toggleable__content {\n",
       "  /* Expand drop-down */\n",
       "  max-height: 200px;\n",
       "  max-width: 100%;\n",
       "  overflow: auto;\n",
       "}\n",
       "\n",
       "#sk-container-id-1 input.sk-toggleable__control:checked~label.sk-toggleable__label-arrow:before {\n",
       "  content: \"▾\";\n",
       "}\n",
       "\n",
       "/* Pipeline/ColumnTransformer-specific style */\n",
       "\n",
       "#sk-container-id-1 div.sk-label input.sk-toggleable__control:checked~label.sk-toggleable__label {\n",
       "  color: var(--sklearn-color-text);\n",
       "  background-color: var(--sklearn-color-unfitted-level-2);\n",
       "}\n",
       "\n",
       "#sk-container-id-1 div.sk-label.fitted input.sk-toggleable__control:checked~label.sk-toggleable__label {\n",
       "  background-color: var(--sklearn-color-fitted-level-2);\n",
       "}\n",
       "\n",
       "/* Estimator-specific style */\n",
       "\n",
       "/* Colorize estimator box */\n",
       "#sk-container-id-1 div.sk-estimator input.sk-toggleable__control:checked~label.sk-toggleable__label {\n",
       "  /* unfitted */\n",
       "  background-color: var(--sklearn-color-unfitted-level-2);\n",
       "}\n",
       "\n",
       "#sk-container-id-1 div.sk-estimator.fitted input.sk-toggleable__control:checked~label.sk-toggleable__label {\n",
       "  /* fitted */\n",
       "  background-color: var(--sklearn-color-fitted-level-2);\n",
       "}\n",
       "\n",
       "#sk-container-id-1 div.sk-label label.sk-toggleable__label,\n",
       "#sk-container-id-1 div.sk-label label {\n",
       "  /* The background is the default theme color */\n",
       "  color: var(--sklearn-color-text-on-default-background);\n",
       "}\n",
       "\n",
       "/* On hover, darken the color of the background */\n",
       "#sk-container-id-1 div.sk-label:hover label.sk-toggleable__label {\n",
       "  color: var(--sklearn-color-text);\n",
       "  background-color: var(--sklearn-color-unfitted-level-2);\n",
       "}\n",
       "\n",
       "/* Label box, darken color on hover, fitted */\n",
       "#sk-container-id-1 div.sk-label.fitted:hover label.sk-toggleable__label.fitted {\n",
       "  color: var(--sklearn-color-text);\n",
       "  background-color: var(--sklearn-color-fitted-level-2);\n",
       "}\n",
       "\n",
       "/* Estimator label */\n",
       "\n",
       "#sk-container-id-1 div.sk-label label {\n",
       "  font-family: monospace;\n",
       "  font-weight: bold;\n",
       "  display: inline-block;\n",
       "  line-height: 1.2em;\n",
       "}\n",
       "\n",
       "#sk-container-id-1 div.sk-label-container {\n",
       "  text-align: center;\n",
       "}\n",
       "\n",
       "/* Estimator-specific */\n",
       "#sk-container-id-1 div.sk-estimator {\n",
       "  font-family: monospace;\n",
       "  border: 1px dotted var(--sklearn-color-border-box);\n",
       "  border-radius: 0.25em;\n",
       "  box-sizing: border-box;\n",
       "  margin-bottom: 0.5em;\n",
       "  /* unfitted */\n",
       "  background-color: var(--sklearn-color-unfitted-level-0);\n",
       "}\n",
       "\n",
       "#sk-container-id-1 div.sk-estimator.fitted {\n",
       "  /* fitted */\n",
       "  background-color: var(--sklearn-color-fitted-level-0);\n",
       "}\n",
       "\n",
       "/* on hover */\n",
       "#sk-container-id-1 div.sk-estimator:hover {\n",
       "  /* unfitted */\n",
       "  background-color: var(--sklearn-color-unfitted-level-2);\n",
       "}\n",
       "\n",
       "#sk-container-id-1 div.sk-estimator.fitted:hover {\n",
       "  /* fitted */\n",
       "  background-color: var(--sklearn-color-fitted-level-2);\n",
       "}\n",
       "\n",
       "/* Specification for estimator info (e.g. \"i\" and \"?\") */\n",
       "\n",
       "/* Common style for \"i\" and \"?\" */\n",
       "\n",
       ".sk-estimator-doc-link,\n",
       "a:link.sk-estimator-doc-link,\n",
       "a:visited.sk-estimator-doc-link {\n",
       "  float: right;\n",
       "  font-size: smaller;\n",
       "  line-height: 1em;\n",
       "  font-family: monospace;\n",
       "  background-color: var(--sklearn-color-background);\n",
       "  border-radius: 1em;\n",
       "  height: 1em;\n",
       "  width: 1em;\n",
       "  text-decoration: none !important;\n",
       "  margin-left: 0.5em;\n",
       "  text-align: center;\n",
       "  /* unfitted */\n",
       "  border: var(--sklearn-color-unfitted-level-1) 1pt solid;\n",
       "  color: var(--sklearn-color-unfitted-level-1);\n",
       "}\n",
       "\n",
       ".sk-estimator-doc-link.fitted,\n",
       "a:link.sk-estimator-doc-link.fitted,\n",
       "a:visited.sk-estimator-doc-link.fitted {\n",
       "  /* fitted */\n",
       "  border: var(--sklearn-color-fitted-level-1) 1pt solid;\n",
       "  color: var(--sklearn-color-fitted-level-1);\n",
       "}\n",
       "\n",
       "/* On hover */\n",
       "div.sk-estimator:hover .sk-estimator-doc-link:hover,\n",
       ".sk-estimator-doc-link:hover,\n",
       "div.sk-label-container:hover .sk-estimator-doc-link:hover,\n",
       ".sk-estimator-doc-link:hover {\n",
       "  /* unfitted */\n",
       "  background-color: var(--sklearn-color-unfitted-level-3);\n",
       "  color: var(--sklearn-color-background);\n",
       "  text-decoration: none;\n",
       "}\n",
       "\n",
       "div.sk-estimator.fitted:hover .sk-estimator-doc-link.fitted:hover,\n",
       ".sk-estimator-doc-link.fitted:hover,\n",
       "div.sk-label-container:hover .sk-estimator-doc-link.fitted:hover,\n",
       ".sk-estimator-doc-link.fitted:hover {\n",
       "  /* fitted */\n",
       "  background-color: var(--sklearn-color-fitted-level-3);\n",
       "  color: var(--sklearn-color-background);\n",
       "  text-decoration: none;\n",
       "}\n",
       "\n",
       "/* Span, style for the box shown on hovering the info icon */\n",
       ".sk-estimator-doc-link span {\n",
       "  display: none;\n",
       "  z-index: 9999;\n",
       "  position: relative;\n",
       "  font-weight: normal;\n",
       "  right: .2ex;\n",
       "  padding: .5ex;\n",
       "  margin: .5ex;\n",
       "  width: min-content;\n",
       "  min-width: 20ex;\n",
       "  max-width: 50ex;\n",
       "  color: var(--sklearn-color-text);\n",
       "  box-shadow: 2pt 2pt 4pt #999;\n",
       "  /* unfitted */\n",
       "  background: var(--sklearn-color-unfitted-level-0);\n",
       "  border: .5pt solid var(--sklearn-color-unfitted-level-3);\n",
       "}\n",
       "\n",
       ".sk-estimator-doc-link.fitted span {\n",
       "  /* fitted */\n",
       "  background: var(--sklearn-color-fitted-level-0);\n",
       "  border: var(--sklearn-color-fitted-level-3);\n",
       "}\n",
       "\n",
       ".sk-estimator-doc-link:hover span {\n",
       "  display: block;\n",
       "}\n",
       "\n",
       "/* \"?\"-specific style due to the `<a>` HTML tag */\n",
       "\n",
       "#sk-container-id-1 a.estimator_doc_link {\n",
       "  float: right;\n",
       "  font-size: 1rem;\n",
       "  line-height: 1em;\n",
       "  font-family: monospace;\n",
       "  background-color: var(--sklearn-color-background);\n",
       "  border-radius: 1rem;\n",
       "  height: 1rem;\n",
       "  width: 1rem;\n",
       "  text-decoration: none;\n",
       "  /* unfitted */\n",
       "  color: var(--sklearn-color-unfitted-level-1);\n",
       "  border: var(--sklearn-color-unfitted-level-1) 1pt solid;\n",
       "}\n",
       "\n",
       "#sk-container-id-1 a.estimator_doc_link.fitted {\n",
       "  /* fitted */\n",
       "  border: var(--sklearn-color-fitted-level-1) 1pt solid;\n",
       "  color: var(--sklearn-color-fitted-level-1);\n",
       "}\n",
       "\n",
       "/* On hover */\n",
       "#sk-container-id-1 a.estimator_doc_link:hover {\n",
       "  /* unfitted */\n",
       "  background-color: var(--sklearn-color-unfitted-level-3);\n",
       "  color: var(--sklearn-color-background);\n",
       "  text-decoration: none;\n",
       "}\n",
       "\n",
       "#sk-container-id-1 a.estimator_doc_link.fitted:hover {\n",
       "  /* fitted */\n",
       "  background-color: var(--sklearn-color-fitted-level-3);\n",
       "}\n",
       "</style><div id=\"sk-container-id-1\" class=\"sk-top-container\"><div class=\"sk-text-repr-fallback\"><pre>XGBRegressor(base_score=None, booster=None, callbacks=None,\n",
       "             colsample_bylevel=None, colsample_bynode=None,\n",
       "             colsample_bytree=0.8, device=&#x27;cuda&#x27;, early_stopping_rounds=20,\n",
       "             enable_categorical=False, eval_metric=None, feature_types=None,\n",
       "             feature_weights=None, gamma=None, grow_policy=None,\n",
       "             importance_type=None, interaction_constraints=None,\n",
       "             learning_rate=0.05, max_bin=None, max_cat_threshold=None,\n",
       "             max_cat_to_onehot=None, max_delta_step=None, max_depth=8,\n",
       "             max_leaves=None, min_child_weight=None, missing=nan,\n",
       "             monotone_constraints=None, multi_strategy=None, n_estimators=500,\n",
       "             n_jobs=None, num_parallel_tree=None, ...)</pre><b>In a Jupyter environment, please rerun this cell to show the HTML representation or trust the notebook. <br />On GitHub, the HTML representation is unable to render, please try loading this page with nbviewer.org.</b></div><div class=\"sk-container\" hidden><div class=\"sk-item\"><div class=\"sk-estimator fitted sk-toggleable\"><input class=\"sk-toggleable__control sk-hidden--visually\" id=\"sk-estimator-id-1\" type=\"checkbox\" checked><label for=\"sk-estimator-id-1\" class=\"sk-toggleable__label fitted sk-toggleable__label-arrow\"><div><div>XGBRegressor</div></div><div><a class=\"sk-estimator-doc-link fitted\" rel=\"noreferrer\" target=\"_blank\" href=\"https://xgboost.readthedocs.io/en/release_3.0.0/python/python_api.html#xgboost.XGBRegressor\">?<span>Documentation for XGBRegressor</span></a><span class=\"sk-estimator-doc-link fitted\">i<span>Fitted</span></span></div></label><div class=\"sk-toggleable__content fitted\"><pre>XGBRegressor(base_score=None, booster=None, callbacks=None,\n",
       "             colsample_bylevel=None, colsample_bynode=None,\n",
       "             colsample_bytree=0.8, device=&#x27;cuda&#x27;, early_stopping_rounds=20,\n",
       "             enable_categorical=False, eval_metric=None, feature_types=None,\n",
       "             feature_weights=None, gamma=None, grow_policy=None,\n",
       "             importance_type=None, interaction_constraints=None,\n",
       "             learning_rate=0.05, max_bin=None, max_cat_threshold=None,\n",
       "             max_cat_to_onehot=None, max_delta_step=None, max_depth=8,\n",
       "             max_leaves=None, min_child_weight=None, missing=nan,\n",
       "             monotone_constraints=None, multi_strategy=None, n_estimators=500,\n",
       "             n_jobs=None, num_parallel_tree=None, ...)</pre></div> </div></div></div></div>"
      ],
      "text/plain": [
       "XGBRegressor(base_score=None, booster=None, callbacks=None,\n",
       "             colsample_bylevel=None, colsample_bynode=None,\n",
       "             colsample_bytree=0.8, device='cuda', early_stopping_rounds=20,\n",
       "             enable_categorical=False, eval_metric=None, feature_types=None,\n",
       "             feature_weights=None, gamma=None, grow_policy=None,\n",
       "             importance_type=None, interaction_constraints=None,\n",
       "             learning_rate=0.05, max_bin=None, max_cat_threshold=None,\n",
       "             max_cat_to_onehot=None, max_delta_step=None, max_depth=8,\n",
       "             max_leaves=None, min_child_weight=None, missing=nan,\n",
       "             monotone_constraints=None, multi_strategy=None, n_estimators=500,\n",
       "             n_jobs=None, num_parallel_tree=None, ...)"
      ]
     },
     "execution_count": 14,
     "metadata": {},
     "output_type": "execute_result"
    }
   ],
   "source": [
    "# ========== XGBoost with GPU ==========\n",
    "xgb_model = xgb.XGBRegressor(\n",
    "    tree_method=config['train']['XGBoost']['tree_method'],\n",
    "    device = config['train']['XGBoost']['device'],\n",
    "    n_estimators=config['train']['XGBoost']['n_estimators'],\n",
    "    max_depth=config['train']['XGBoost']['max_depth'],\n",
    "    learning_rate=config['train']['XGBoost']['learning_rate'],\n",
    "    subsample=config['train']['XGBoost']['subsample'],\n",
    "    colsample_bytree=config['train']['XGBoost']['colsample_bytree'],\n",
    "    objective=config['train']['XGBoost']['objective'],\n",
    "    random_state=config['train']['XGBoost']['random_state'],\n",
    "    early_stopping_rounds=config['train']['XGBoost']['early_stopping_rounds']\n",
    ")\n",
    "xgb_model.fit(X_train, y_train, eval_set=[(X_val, y_val)], verbose=False)"
   ]
  },
  {
   "cell_type": "code",
   "execution_count": 15,
   "id": "fd1dd239-74a5-4783-a7d5-675871ce3e47",
   "metadata": {},
   "outputs": [
    {
     "name": "stdout",
     "output_type": "stream",
     "text": [
      "XGBoost (GPU) - RMSE: 146.63, R²: 0.9500\n"
     ]
    }
   ],
   "source": [
    "from sklearn.metrics import mean_squared_error, r2_score\n",
    "import numpy as np\n",
    "\n",
    "# Predict on validation set\n",
    "booster = xgb_model.get_booster()\n",
    "dval = xgb.DMatrix(X_val)\n",
    "y_pred = booster.predict(dval)\n",
    "# y_pred = xgb_model.predict(X_val)\n",
    "\n",
    "# Compute RMSE\n",
    "rmse = np.sqrt(mean_squared_error(y_val, y_pred))\n",
    "\n",
    "# Compute R² score\n",
    "r2 = r2_score(y_val, y_pred)\n",
    "\n",
    "print(f\"XGBoost (GPU) - RMSE: {rmse:.2f}, R²: {r2:.4f}\")"
   ]
  },
  {
   "cell_type": "markdown",
   "id": "c041aa01-2888-4357-89db-4e180a0c51ce",
   "metadata": {},
   "source": [
    "## LightGBM"
   ]
  },
  {
   "cell_type": "code",
   "execution_count": 16,
   "id": "4f4d2d06-b469-4e02-8e59-8fe515747ec3",
   "metadata": {},
   "outputs": [
    {
     "name": "stdout",
     "output_type": "stream",
     "text": [
      "[LightGBM] [Warning] early_stopping_round is set=20, early_stopping_rounds=20 will be ignored. Current value: early_stopping_round=20\n",
      "[LightGBM] [Warning] early_stopping_round is set=20, early_stopping_rounds=20 will be ignored. Current value: early_stopping_round=20\n"
     ]
    },
    {
     "data": {
      "text/html": [
       "<style>#sk-container-id-2 {\n",
       "  /* Definition of color scheme common for light and dark mode */\n",
       "  --sklearn-color-text: #000;\n",
       "  --sklearn-color-text-muted: #666;\n",
       "  --sklearn-color-line: gray;\n",
       "  /* Definition of color scheme for unfitted estimators */\n",
       "  --sklearn-color-unfitted-level-0: #fff5e6;\n",
       "  --sklearn-color-unfitted-level-1: #f6e4d2;\n",
       "  --sklearn-color-unfitted-level-2: #ffe0b3;\n",
       "  --sklearn-color-unfitted-level-3: chocolate;\n",
       "  /* Definition of color scheme for fitted estimators */\n",
       "  --sklearn-color-fitted-level-0: #f0f8ff;\n",
       "  --sklearn-color-fitted-level-1: #d4ebff;\n",
       "  --sklearn-color-fitted-level-2: #b3dbfd;\n",
       "  --sklearn-color-fitted-level-3: cornflowerblue;\n",
       "\n",
       "  /* Specific color for light theme */\n",
       "  --sklearn-color-text-on-default-background: var(--sg-text-color, var(--theme-code-foreground, var(--jp-content-font-color1, black)));\n",
       "  --sklearn-color-background: var(--sg-background-color, var(--theme-background, var(--jp-layout-color0, white)));\n",
       "  --sklearn-color-border-box: var(--sg-text-color, var(--theme-code-foreground, var(--jp-content-font-color1, black)));\n",
       "  --sklearn-color-icon: #696969;\n",
       "\n",
       "  @media (prefers-color-scheme: dark) {\n",
       "    /* Redefinition of color scheme for dark theme */\n",
       "    --sklearn-color-text-on-default-background: var(--sg-text-color, var(--theme-code-foreground, var(--jp-content-font-color1, white)));\n",
       "    --sklearn-color-background: var(--sg-background-color, var(--theme-background, var(--jp-layout-color0, #111)));\n",
       "    --sklearn-color-border-box: var(--sg-text-color, var(--theme-code-foreground, var(--jp-content-font-color1, white)));\n",
       "    --sklearn-color-icon: #878787;\n",
       "  }\n",
       "}\n",
       "\n",
       "#sk-container-id-2 {\n",
       "  color: var(--sklearn-color-text);\n",
       "}\n",
       "\n",
       "#sk-container-id-2 pre {\n",
       "  padding: 0;\n",
       "}\n",
       "\n",
       "#sk-container-id-2 input.sk-hidden--visually {\n",
       "  border: 0;\n",
       "  clip: rect(1px 1px 1px 1px);\n",
       "  clip: rect(1px, 1px, 1px, 1px);\n",
       "  height: 1px;\n",
       "  margin: -1px;\n",
       "  overflow: hidden;\n",
       "  padding: 0;\n",
       "  position: absolute;\n",
       "  width: 1px;\n",
       "}\n",
       "\n",
       "#sk-container-id-2 div.sk-dashed-wrapped {\n",
       "  border: 1px dashed var(--sklearn-color-line);\n",
       "  margin: 0 0.4em 0.5em 0.4em;\n",
       "  box-sizing: border-box;\n",
       "  padding-bottom: 0.4em;\n",
       "  background-color: var(--sklearn-color-background);\n",
       "}\n",
       "\n",
       "#sk-container-id-2 div.sk-container {\n",
       "  /* jupyter's `normalize.less` sets `[hidden] { display: none; }`\n",
       "     but bootstrap.min.css set `[hidden] { display: none !important; }`\n",
       "     so we also need the `!important` here to be able to override the\n",
       "     default hidden behavior on the sphinx rendered scikit-learn.org.\n",
       "     See: https://github.com/scikit-learn/scikit-learn/issues/21755 */\n",
       "  display: inline-block !important;\n",
       "  position: relative;\n",
       "}\n",
       "\n",
       "#sk-container-id-2 div.sk-text-repr-fallback {\n",
       "  display: none;\n",
       "}\n",
       "\n",
       "div.sk-parallel-item,\n",
       "div.sk-serial,\n",
       "div.sk-item {\n",
       "  /* draw centered vertical line to link estimators */\n",
       "  background-image: linear-gradient(var(--sklearn-color-text-on-default-background), var(--sklearn-color-text-on-default-background));\n",
       "  background-size: 2px 100%;\n",
       "  background-repeat: no-repeat;\n",
       "  background-position: center center;\n",
       "}\n",
       "\n",
       "/* Parallel-specific style estimator block */\n",
       "\n",
       "#sk-container-id-2 div.sk-parallel-item::after {\n",
       "  content: \"\";\n",
       "  width: 100%;\n",
       "  border-bottom: 2px solid var(--sklearn-color-text-on-default-background);\n",
       "  flex-grow: 1;\n",
       "}\n",
       "\n",
       "#sk-container-id-2 div.sk-parallel {\n",
       "  display: flex;\n",
       "  align-items: stretch;\n",
       "  justify-content: center;\n",
       "  background-color: var(--sklearn-color-background);\n",
       "  position: relative;\n",
       "}\n",
       "\n",
       "#sk-container-id-2 div.sk-parallel-item {\n",
       "  display: flex;\n",
       "  flex-direction: column;\n",
       "}\n",
       "\n",
       "#sk-container-id-2 div.sk-parallel-item:first-child::after {\n",
       "  align-self: flex-end;\n",
       "  width: 50%;\n",
       "}\n",
       "\n",
       "#sk-container-id-2 div.sk-parallel-item:last-child::after {\n",
       "  align-self: flex-start;\n",
       "  width: 50%;\n",
       "}\n",
       "\n",
       "#sk-container-id-2 div.sk-parallel-item:only-child::after {\n",
       "  width: 0;\n",
       "}\n",
       "\n",
       "/* Serial-specific style estimator block */\n",
       "\n",
       "#sk-container-id-2 div.sk-serial {\n",
       "  display: flex;\n",
       "  flex-direction: column;\n",
       "  align-items: center;\n",
       "  background-color: var(--sklearn-color-background);\n",
       "  padding-right: 1em;\n",
       "  padding-left: 1em;\n",
       "}\n",
       "\n",
       "\n",
       "/* Toggleable style: style used for estimator/Pipeline/ColumnTransformer box that is\n",
       "clickable and can be expanded/collapsed.\n",
       "- Pipeline and ColumnTransformer use this feature and define the default style\n",
       "- Estimators will overwrite some part of the style using the `sk-estimator` class\n",
       "*/\n",
       "\n",
       "/* Pipeline and ColumnTransformer style (default) */\n",
       "\n",
       "#sk-container-id-2 div.sk-toggleable {\n",
       "  /* Default theme specific background. It is overwritten whether we have a\n",
       "  specific estimator or a Pipeline/ColumnTransformer */\n",
       "  background-color: var(--sklearn-color-background);\n",
       "}\n",
       "\n",
       "/* Toggleable label */\n",
       "#sk-container-id-2 label.sk-toggleable__label {\n",
       "  cursor: pointer;\n",
       "  display: flex;\n",
       "  width: 100%;\n",
       "  margin-bottom: 0;\n",
       "  padding: 0.5em;\n",
       "  box-sizing: border-box;\n",
       "  text-align: center;\n",
       "  align-items: start;\n",
       "  justify-content: space-between;\n",
       "  gap: 0.5em;\n",
       "}\n",
       "\n",
       "#sk-container-id-2 label.sk-toggleable__label .caption {\n",
       "  font-size: 0.6rem;\n",
       "  font-weight: lighter;\n",
       "  color: var(--sklearn-color-text-muted);\n",
       "}\n",
       "\n",
       "#sk-container-id-2 label.sk-toggleable__label-arrow:before {\n",
       "  /* Arrow on the left of the label */\n",
       "  content: \"▸\";\n",
       "  float: left;\n",
       "  margin-right: 0.25em;\n",
       "  color: var(--sklearn-color-icon);\n",
       "}\n",
       "\n",
       "#sk-container-id-2 label.sk-toggleable__label-arrow:hover:before {\n",
       "  color: var(--sklearn-color-text);\n",
       "}\n",
       "\n",
       "/* Toggleable content - dropdown */\n",
       "\n",
       "#sk-container-id-2 div.sk-toggleable__content {\n",
       "  max-height: 0;\n",
       "  max-width: 0;\n",
       "  overflow: hidden;\n",
       "  text-align: left;\n",
       "  /* unfitted */\n",
       "  background-color: var(--sklearn-color-unfitted-level-0);\n",
       "}\n",
       "\n",
       "#sk-container-id-2 div.sk-toggleable__content.fitted {\n",
       "  /* fitted */\n",
       "  background-color: var(--sklearn-color-fitted-level-0);\n",
       "}\n",
       "\n",
       "#sk-container-id-2 div.sk-toggleable__content pre {\n",
       "  margin: 0.2em;\n",
       "  border-radius: 0.25em;\n",
       "  color: var(--sklearn-color-text);\n",
       "  /* unfitted */\n",
       "  background-color: var(--sklearn-color-unfitted-level-0);\n",
       "}\n",
       "\n",
       "#sk-container-id-2 div.sk-toggleable__content.fitted pre {\n",
       "  /* unfitted */\n",
       "  background-color: var(--sklearn-color-fitted-level-0);\n",
       "}\n",
       "\n",
       "#sk-container-id-2 input.sk-toggleable__control:checked~div.sk-toggleable__content {\n",
       "  /* Expand drop-down */\n",
       "  max-height: 200px;\n",
       "  max-width: 100%;\n",
       "  overflow: auto;\n",
       "}\n",
       "\n",
       "#sk-container-id-2 input.sk-toggleable__control:checked~label.sk-toggleable__label-arrow:before {\n",
       "  content: \"▾\";\n",
       "}\n",
       "\n",
       "/* Pipeline/ColumnTransformer-specific style */\n",
       "\n",
       "#sk-container-id-2 div.sk-label input.sk-toggleable__control:checked~label.sk-toggleable__label {\n",
       "  color: var(--sklearn-color-text);\n",
       "  background-color: var(--sklearn-color-unfitted-level-2);\n",
       "}\n",
       "\n",
       "#sk-container-id-2 div.sk-label.fitted input.sk-toggleable__control:checked~label.sk-toggleable__label {\n",
       "  background-color: var(--sklearn-color-fitted-level-2);\n",
       "}\n",
       "\n",
       "/* Estimator-specific style */\n",
       "\n",
       "/* Colorize estimator box */\n",
       "#sk-container-id-2 div.sk-estimator input.sk-toggleable__control:checked~label.sk-toggleable__label {\n",
       "  /* unfitted */\n",
       "  background-color: var(--sklearn-color-unfitted-level-2);\n",
       "}\n",
       "\n",
       "#sk-container-id-2 div.sk-estimator.fitted input.sk-toggleable__control:checked~label.sk-toggleable__label {\n",
       "  /* fitted */\n",
       "  background-color: var(--sklearn-color-fitted-level-2);\n",
       "}\n",
       "\n",
       "#sk-container-id-2 div.sk-label label.sk-toggleable__label,\n",
       "#sk-container-id-2 div.sk-label label {\n",
       "  /* The background is the default theme color */\n",
       "  color: var(--sklearn-color-text-on-default-background);\n",
       "}\n",
       "\n",
       "/* On hover, darken the color of the background */\n",
       "#sk-container-id-2 div.sk-label:hover label.sk-toggleable__label {\n",
       "  color: var(--sklearn-color-text);\n",
       "  background-color: var(--sklearn-color-unfitted-level-2);\n",
       "}\n",
       "\n",
       "/* Label box, darken color on hover, fitted */\n",
       "#sk-container-id-2 div.sk-label.fitted:hover label.sk-toggleable__label.fitted {\n",
       "  color: var(--sklearn-color-text);\n",
       "  background-color: var(--sklearn-color-fitted-level-2);\n",
       "}\n",
       "\n",
       "/* Estimator label */\n",
       "\n",
       "#sk-container-id-2 div.sk-label label {\n",
       "  font-family: monospace;\n",
       "  font-weight: bold;\n",
       "  display: inline-block;\n",
       "  line-height: 1.2em;\n",
       "}\n",
       "\n",
       "#sk-container-id-2 div.sk-label-container {\n",
       "  text-align: center;\n",
       "}\n",
       "\n",
       "/* Estimator-specific */\n",
       "#sk-container-id-2 div.sk-estimator {\n",
       "  font-family: monospace;\n",
       "  border: 1px dotted var(--sklearn-color-border-box);\n",
       "  border-radius: 0.25em;\n",
       "  box-sizing: border-box;\n",
       "  margin-bottom: 0.5em;\n",
       "  /* unfitted */\n",
       "  background-color: var(--sklearn-color-unfitted-level-0);\n",
       "}\n",
       "\n",
       "#sk-container-id-2 div.sk-estimator.fitted {\n",
       "  /* fitted */\n",
       "  background-color: var(--sklearn-color-fitted-level-0);\n",
       "}\n",
       "\n",
       "/* on hover */\n",
       "#sk-container-id-2 div.sk-estimator:hover {\n",
       "  /* unfitted */\n",
       "  background-color: var(--sklearn-color-unfitted-level-2);\n",
       "}\n",
       "\n",
       "#sk-container-id-2 div.sk-estimator.fitted:hover {\n",
       "  /* fitted */\n",
       "  background-color: var(--sklearn-color-fitted-level-2);\n",
       "}\n",
       "\n",
       "/* Specification for estimator info (e.g. \"i\" and \"?\") */\n",
       "\n",
       "/* Common style for \"i\" and \"?\" */\n",
       "\n",
       ".sk-estimator-doc-link,\n",
       "a:link.sk-estimator-doc-link,\n",
       "a:visited.sk-estimator-doc-link {\n",
       "  float: right;\n",
       "  font-size: smaller;\n",
       "  line-height: 1em;\n",
       "  font-family: monospace;\n",
       "  background-color: var(--sklearn-color-background);\n",
       "  border-radius: 1em;\n",
       "  height: 1em;\n",
       "  width: 1em;\n",
       "  text-decoration: none !important;\n",
       "  margin-left: 0.5em;\n",
       "  text-align: center;\n",
       "  /* unfitted */\n",
       "  border: var(--sklearn-color-unfitted-level-1) 1pt solid;\n",
       "  color: var(--sklearn-color-unfitted-level-1);\n",
       "}\n",
       "\n",
       ".sk-estimator-doc-link.fitted,\n",
       "a:link.sk-estimator-doc-link.fitted,\n",
       "a:visited.sk-estimator-doc-link.fitted {\n",
       "  /* fitted */\n",
       "  border: var(--sklearn-color-fitted-level-1) 1pt solid;\n",
       "  color: var(--sklearn-color-fitted-level-1);\n",
       "}\n",
       "\n",
       "/* On hover */\n",
       "div.sk-estimator:hover .sk-estimator-doc-link:hover,\n",
       ".sk-estimator-doc-link:hover,\n",
       "div.sk-label-container:hover .sk-estimator-doc-link:hover,\n",
       ".sk-estimator-doc-link:hover {\n",
       "  /* unfitted */\n",
       "  background-color: var(--sklearn-color-unfitted-level-3);\n",
       "  color: var(--sklearn-color-background);\n",
       "  text-decoration: none;\n",
       "}\n",
       "\n",
       "div.sk-estimator.fitted:hover .sk-estimator-doc-link.fitted:hover,\n",
       ".sk-estimator-doc-link.fitted:hover,\n",
       "div.sk-label-container:hover .sk-estimator-doc-link.fitted:hover,\n",
       ".sk-estimator-doc-link.fitted:hover {\n",
       "  /* fitted */\n",
       "  background-color: var(--sklearn-color-fitted-level-3);\n",
       "  color: var(--sklearn-color-background);\n",
       "  text-decoration: none;\n",
       "}\n",
       "\n",
       "/* Span, style for the box shown on hovering the info icon */\n",
       ".sk-estimator-doc-link span {\n",
       "  display: none;\n",
       "  z-index: 9999;\n",
       "  position: relative;\n",
       "  font-weight: normal;\n",
       "  right: .2ex;\n",
       "  padding: .5ex;\n",
       "  margin: .5ex;\n",
       "  width: min-content;\n",
       "  min-width: 20ex;\n",
       "  max-width: 50ex;\n",
       "  color: var(--sklearn-color-text);\n",
       "  box-shadow: 2pt 2pt 4pt #999;\n",
       "  /* unfitted */\n",
       "  background: var(--sklearn-color-unfitted-level-0);\n",
       "  border: .5pt solid var(--sklearn-color-unfitted-level-3);\n",
       "}\n",
       "\n",
       ".sk-estimator-doc-link.fitted span {\n",
       "  /* fitted */\n",
       "  background: var(--sklearn-color-fitted-level-0);\n",
       "  border: var(--sklearn-color-fitted-level-3);\n",
       "}\n",
       "\n",
       ".sk-estimator-doc-link:hover span {\n",
       "  display: block;\n",
       "}\n",
       "\n",
       "/* \"?\"-specific style due to the `<a>` HTML tag */\n",
       "\n",
       "#sk-container-id-2 a.estimator_doc_link {\n",
       "  float: right;\n",
       "  font-size: 1rem;\n",
       "  line-height: 1em;\n",
       "  font-family: monospace;\n",
       "  background-color: var(--sklearn-color-background);\n",
       "  border-radius: 1rem;\n",
       "  height: 1rem;\n",
       "  width: 1rem;\n",
       "  text-decoration: none;\n",
       "  /* unfitted */\n",
       "  color: var(--sklearn-color-unfitted-level-1);\n",
       "  border: var(--sklearn-color-unfitted-level-1) 1pt solid;\n",
       "}\n",
       "\n",
       "#sk-container-id-2 a.estimator_doc_link.fitted {\n",
       "  /* fitted */\n",
       "  border: var(--sklearn-color-fitted-level-1) 1pt solid;\n",
       "  color: var(--sklearn-color-fitted-level-1);\n",
       "}\n",
       "\n",
       "/* On hover */\n",
       "#sk-container-id-2 a.estimator_doc_link:hover {\n",
       "  /* unfitted */\n",
       "  background-color: var(--sklearn-color-unfitted-level-3);\n",
       "  color: var(--sklearn-color-background);\n",
       "  text-decoration: none;\n",
       "}\n",
       "\n",
       "#sk-container-id-2 a.estimator_doc_link.fitted:hover {\n",
       "  /* fitted */\n",
       "  background-color: var(--sklearn-color-fitted-level-3);\n",
       "}\n",
       "</style><div id=\"sk-container-id-2\" class=\"sk-top-container\"><div class=\"sk-text-repr-fallback\"><pre>LGBMRegressor(device=&#x27;gpu&#x27;, early_stopping_rounds=20, learning_rate=0.05,\n",
       "              n_estimators=500, random_state=42, verbose=0)</pre><b>In a Jupyter environment, please rerun this cell to show the HTML representation or trust the notebook. <br />On GitHub, the HTML representation is unable to render, please try loading this page with nbviewer.org.</b></div><div class=\"sk-container\" hidden><div class=\"sk-item\"><div class=\"sk-estimator fitted sk-toggleable\"><input class=\"sk-toggleable__control sk-hidden--visually\" id=\"sk-estimator-id-2\" type=\"checkbox\" checked><label for=\"sk-estimator-id-2\" class=\"sk-toggleable__label fitted sk-toggleable__label-arrow\"><div><div>LGBMRegressor</div></div><div><span class=\"sk-estimator-doc-link fitted\">i<span>Fitted</span></span></div></label><div class=\"sk-toggleable__content fitted\"><pre>LGBMRegressor(device=&#x27;gpu&#x27;, early_stopping_rounds=20, learning_rate=0.05,\n",
       "              n_estimators=500, random_state=42, verbose=0)</pre></div> </div></div></div></div>"
      ],
      "text/plain": [
       "LGBMRegressor(device='gpu', early_stopping_rounds=20, learning_rate=0.05,\n",
       "              n_estimators=500, random_state=42, verbose=0)"
      ]
     },
     "execution_count": 16,
     "metadata": {},
     "output_type": "execute_result"
    }
   ],
   "source": [
    "# ========== LightGBM with GPU ==========\n",
    "lgb_model = lgb.LGBMRegressor(\n",
    "    device=config['train']['LightGBM']['device'],\n",
    "    num_leaves=config['train']['LightGBM']['num_leaves'],\n",
    "    learning_rate=config['train']['LightGBM']['learning_rate'],\n",
    "    n_estimators=config['train']['LightGBM']['n_estimators'],\n",
    "    min_child_samples=config['train']['LightGBM']['min_child_samples'],\n",
    "    early_stopping_rounds=config['train']['LightGBM']['early_stopping_rounds'],\n",
    "    random_state=config['train']['LightGBM']['random_state'],\n",
    "    verbose = 0\n",
    ")\n",
    "lgb_model.fit(X_train, y_train, eval_set=[(X_val, y_val)])"
   ]
  },
  {
   "cell_type": "code",
   "execution_count": 17,
   "id": "e47fce58-f5f2-41c8-95c5-343d03edc8fe",
   "metadata": {},
   "outputs": [
    {
     "name": "stdout",
     "output_type": "stream",
     "text": [
      "LGB_Model (GPU) - RMSE: 155.88, R²: 0.9435\n"
     ]
    }
   ],
   "source": [
    "from sklearn.metrics import mean_squared_error, r2_score\n",
    "import numpy as np\n",
    "\n",
    "# Predict on validation set\n",
    "y_pred = lgb_model.predict(X_val)\n",
    "\n",
    "# Compute RMSE\n",
    "rmse = np.sqrt(mean_squared_error(y_val, y_pred))\n",
    "\n",
    "# Compute R² score\n",
    "r2 = r2_score(y_val, y_pred)\n",
    "\n",
    "print(f\"LGB_Model (GPU) - RMSE: {rmse:.2f}, R²: {r2:.4f}\")"
   ]
  },
  {
   "cell_type": "markdown",
   "id": "2910162c-1c1c-4749-b318-d579abcaf8d0",
   "metadata": {},
   "source": [
    "## Plot"
   ]
  },
  {
   "cell_type": "code",
   "execution_count": 18,
   "id": "8ddfcfe6-500b-42d5-af6b-8e3dce8d1112",
   "metadata": {},
   "outputs": [
    {
     "data": {
      "image/png": "[encoded data removed]",
      "text/plain": [
       "<Figure size 1000x600 with 1 Axes>"
      ]
     },
     "metadata": {},
     "output_type": "display_data"
    }
   ],
   "source": [
    "import pandas as pd\n",
    "import seaborn as sns\n",
    "import matplotlib.pyplot as plt\n",
    "\n",
    "# Assuming y_val and y_pred are lists, Series, or arrays\n",
    "df = pd.DataFrame({'y_val': y_val, 'y_pred': y_pred})\n",
    "\n",
    "plt.figure(figsize=(10, 6))\n",
    "sns.kdeplot(df['y_val'], label='Actual (y_val)', fill=True)\n",
    "sns.kdeplot(df['y_pred'], label='Predicted (y_pred)', fill=True)\n",
    "plt.title('Distribution of Actual vs Predicted for LGBM Model')\n",
    "plt.xlabel('Value')\n",
    "plt.ylabel('Density')\n",
    "plt.legend()\n",
    "plt.grid(True)\n",
    "\n",
    "plt.savefig(config['reports']['kde']['lgbm'])\n",
    "plt.show()"
   ]
  },
  {
   "cell_type": "markdown",
   "id": "7784eb24-c69b-41f9-810a-729f827e34e0",
   "metadata": {},
   "source": [
    "## TabNet Regressor"
   ]
  },
  {
   "cell_type": "code",
   "execution_count": 19,
   "id": "d90a2ec8-2b09-445d-9f5a-2b617aaf7157",
   "metadata": {},
   "outputs": [
    {
     "name": "stderr",
     "output_type": "stream",
     "text": [
      "C:\\Yellow Taxi Project\\SimpleOps\\project\\.venv\\Lib\\site-packages\\pytorch_tabnet\\abstract_model.py:82: UserWarning: Device used : cuda\n",
      "  warnings.warn(f\"Device used : {self.device}\")\n"
     ]
    },
    {
     "name": "stdout",
     "output_type": "stream",
     "text": [
      "epoch 0  | loss: 94662.62751| val_0_rmse: 451.44665|  0:01:29s\n",
      "epoch 1  | loss: 37360.98076| val_0_rmse: 500.14762|  0:03:05s\n",
      "epoch 2  | loss: 35678.4722| val_0_rmse: 525.99275|  0:04:38s\n",
      "epoch 3  | loss: 34427.55769| val_0_rmse: 410.25369|  0:06:07s\n",
      "epoch 4  | loss: 33619.74903| val_0_rmse: 486.03792|  0:07:53s\n",
      "epoch 5  | loss: 33107.3023| val_0_rmse: 451.52838|  0:09:51s\n",
      "epoch 6  | loss: 32718.9395| val_0_rmse: 457.33479|  0:11:44s\n",
      "epoch 7  | loss: 32355.39965| val_0_rmse: 451.68865|  0:13:35s\n",
      "epoch 8  | loss: 32061.71177| val_0_rmse: 498.66986|  0:15:18s\n",
      "\n",
      "Early stopping occurred at epoch 8 with best_epoch = 3 and best_val_0_rmse = 410.25369\n"
     ]
    },
    {
     "name": "stderr",
     "output_type": "stream",
     "text": [
      "C:\\Yellow Taxi Project\\SimpleOps\\project\\.venv\\Lib\\site-packages\\pytorch_tabnet\\callbacks.py:172: UserWarning: Best weights from best epoch are automatically used!\n",
      "  warnings.warn(wrn_msg)\n"
     ]
    },
    {
     "name": "stdout",
     "output_type": "stream",
     "text": [
      "TabNet RMSE: 410.25, R²: 0.6087\n"
     ]
    }
   ],
   "source": [
    "from pytorch_tabnet.tab_model import TabNetRegressor\n",
    "\n",
    "tabnet = TabNetRegressor(device_name='cuda' if torch.cuda.is_available() else 'cpu')\n",
    "tabnet.fit(\n",
    "    X_train.values, y_train.reshape(-1, 1),\n",
    "    eval_set=[(X_val.values, y_val.reshape(-1, 1))],\n",
    "    eval_metric=config['train']['TabNet']['eval_metric'],\n",
    "    max_epochs=config['train']['TabNet']['max_epochs'],\n",
    "    patience=config['train']['TabNet']['patience'],\n",
    "    batch_size=config['train']['TabNet']['batch_size'],\n",
    "    virtual_batch_size=config['train']['TabNet']['virtual_batch_size'],\n",
    "    num_workers=config['train']['TabNet']['num_workers']\n",
    ")\n",
    "tabnet_pred = tabnet.predict(X_val.values).squeeze()\n",
    "print(f\"TabNet RMSE: {np.sqrt(mean_squared_error(y_val, tabnet_pred)):.2f}, R²: {r2_score(y_val, tabnet_pred):.4f}\")\n"
   ]
  },
  {
   "cell_type": "markdown",
   "id": "a2c14d3e-0429-448c-9411-7017b02b6bd2",
   "metadata": {},
   "source": [
    "## Ridge, Lasso, ElasticNet Regressor"
   ]
  },
  {
   "cell_type": "code",
   "execution_count": 20,
   "id": "f804b88f-6c0e-4808-b5b4-519ac27b148d",
   "metadata": {},
   "outputs": [
    {
     "name": "stdout",
     "output_type": "stream",
     "text": [
      "Ridge RMSE: 358.04, R²: 0.7019\n",
      "Lasso RMSE: 358.00, R²: 0.7020\n",
      "ElasticNet RMSE: 349.55, R²: 0.7159\n"
     ]
    }
   ],
   "source": [
    "from sklearn.linear_model import Ridge, Lasso, ElasticNet\n",
    "from sklearn.metrics import mean_squared_error, r2_score\n",
    "import numpy as np\n",
    "\n",
    "# Ridge Regression\n",
    "ridge = Ridge(alpha=config['train']['LReg']['Ridge']['alpha'], random_state=config['base']['random_seed'])\n",
    "ridge.fit(X_train, y_train)\n",
    "ridge_pred = ridge.predict(X_val)\n",
    "print(f\"Ridge RMSE: {np.sqrt(mean_squared_error(y_val, ridge_pred)):.2f}, R²: {r2_score(y_val, ridge_pred):.4f}\")\n",
    "\n",
    "# Lasso Regression\n",
    "lasso = Lasso(alpha=config['train']['LReg']['Lasso']['alpha'], random_state=config['base']['random_seed'], max_iter=config['train']['LReg']['Lasso']['max_iter'])\n",
    "lasso.fit(X_train, y_train)\n",
    "lasso_pred = lasso.predict(X_val)\n",
    "print(f\"Lasso RMSE: {np.sqrt(mean_squared_error(y_val, lasso_pred)):.2f}, R²: {r2_score(y_val, lasso_pred):.4f}\")\n",
    "\n",
    "# ElasticNet Regression\n",
    "enet = ElasticNet(alpha=config['train']['LReg']['ElasticNet']['alpha'], l1_ratio=config['train']['LReg']['ElasticNet']['l1_ratio'], random_state=config['base']['random_seed'], max_iter=config['train']['LReg']['ElasticNet']['max_iter'])\n",
    "enet.fit(X_train, y_train)\n",
    "enet_pred = enet.predict(X_val)\n",
    "print(f\"ElasticNet RMSE: {np.sqrt(mean_squared_error(y_val, enet_pred)):.2f}, R²: {r2_score(y_val, enet_pred):.4f}\")\n"
   ]
  },
  {
   "cell_type": "code",
   "execution_count": null,
   "id": "318ad3f9-2a33-49af-b2a1-baf229ff744e",
   "metadata": {},
   "outputs": [],
   "source": []
  },
  {
   "cell_type": "code",
   "execution_count": null,
   "id": "141e0b9c-5847-4f8d-8f28-d21a15d03f33",
   "metadata": {},
   "outputs": [],
   "source": []
  },
  {
   "cell_type": "code",
   "execution_count": 22,
   "id": "3e124beb-4051-4357-b86d-553841e7a401",
   "metadata": {},
   "outputs": [],
   "source": [
    "import pandas as pd\n",
    "import seaborn as sns\n",
    "import matplotlib.pyplot as plt\n",
    "\n",
    "def generate_kde_plot(y_val, y_pred, model_name: str, save_path: str):\n",
    "    \"\"\"\n",
    "    Generates and saves a KDE plot comparing actual and predicted values.\n",
    "\n",
    "    Parameters:\n",
    "    - y_val: array-like of true values\n",
    "    - y_pred: array-like of predicted values\n",
    "    - model_name: string, name of the ML model (used in plot title)\n",
    "    - save_path: string, path to save the generated plot\n",
    "    \"\"\"\n",
    "    df = pd.DataFrame({'y_val': y_val, 'y_pred': y_pred})\n",
    "\n",
    "    plt.figure(figsize=(10, 6))\n",
    "    sns.kdeplot(df['y_val'], label='Actual (y_val)', fill=True, common_norm=False)\n",
    "    sns.kdeplot(df['y_pred'], label='Predicted (y_pred)', fill=True, common_norm=False)\n",
    "    plt.title(f'Distribution of Actual vs Predicted for {model_name} Model')\n",
    "    plt.xlabel('Value')\n",
    "    plt.ylabel('Density')\n",
    "    plt.legend()\n",
    "    plt.grid(True)\n",
    "\n",
    "    plt.savefig(save_path)\n",
    "    plt.close()  # Avoid overlap when plotting multiple figures\n",
    "\n",
    "generate_kde_plot(y_val, enet_pred, model_name=enet, save_path='enet_g.jpg')"
   ]
  },
  {
   "cell_type": "code",
   "execution_count": null,
   "id": "2110daf9-ea72-4ce6-8b4f-b192b4096121",
   "metadata": {},
   "outputs": [],
   "source": []
  },
  {
   "cell_type": "code",
   "execution_count": null,
   "id": "7810d4d3-a6c7-4150-8943-d586aeb20c16",
   "metadata": {},
   "outputs": [],
   "source": []
  },
  {
   "cell_type": "code",
   "execution_count": null,
   "id": "f3ac6851-d3de-4c8f-97e0-fc119e4d6935",
   "metadata": {},
   "outputs": [],
   "source": []
  },
  {
   "cell_type": "code",
   "execution_count": null,
   "id": "c039e743-cd8d-4411-8465-2de1efc3bf45",
   "metadata": {},
   "outputs": [],
   "source": []
  },
  {
   "cell_type": "code",
   "execution_count": null,
   "id": "bcef55c6-7683-4cb3-ac9c-c5ecdda46983",
   "metadata": {},
   "outputs": [],
   "source": []
  },
  {
   "cell_type": "code",
   "execution_count": null,
   "id": "514d59bc-61d6-4dc5-856a-5ca9747bc8f0",
   "metadata": {},
   "outputs": [],
   "source": []
  },
  {
   "cell_type": "code",
   "execution_count": null,
   "id": "cc811f2a-4a3c-44a1-b922-20ce8f882b38",
   "metadata": {},
   "outputs": [],
   "source": []
  },
  {
   "cell_type": "code",
   "execution_count": null,
   "id": "43754b81-b546-451c-8a97-e25abadb06df",
   "metadata": {},
   "outputs": [],
   "source": []
  }
 ],
 "metadata": {
  "kernelspec": {
   "display_name": "finalkernel",
   "language": "python",
   "name": "finalkernel"
  },
  "language_info": {
   "codemirror_mode": {
    "name": "ipython",
    "version": 3
   },
   "file_extension": ".py",
   "mimetype": "text/x-python",
   "name": "python",
   "nbconvert_exporter": "python",
   "pygments_lexer": "ipython3",
   "version": "3.11.9"
  }
 },
 "nbformat": 4,
 "nbformat_minor": 5
}
